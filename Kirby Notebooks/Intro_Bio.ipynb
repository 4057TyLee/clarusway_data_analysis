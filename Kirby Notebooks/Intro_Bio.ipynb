{
 "cells": [
  {
   "cell_type": "markdown",
   "id": "bdb1e706-103e-4ddf-8bf9-33a4b3dc1d27",
   "metadata": {
    "tags": []
   },
   "source": [
    "#### Who Am I?\n",
    "\n",
    "Here's [some bio](https://kirbyurner.academia.edu/) on academia.edu\n",
    "\n",
    "One of my best Python teaching gigs:\n",
    "\n",
    "[Hubble Space Telescope Faculty](https://worldgame.blogspot.com/2010/04/python-gig.html)\n",
    "\n",
    "Active [on Quora](https://www.quora.com/profile/Kirby-Urner)\n",
    "\n",
    "Where do I use [python](https://python.org), [numpy](https://numpy.org/), [pandas](https://pandas.pydata.org/) etc.?\n",
    "\n",
    "Exhibits:\n",
    "\n",
    "* [course instruction](https://github.com/4dsolutions/clarusway_data_analysis) materials\n",
    "* [curriculum writing](https://github.com/4dsolutions/elite_school) for schools\n",
    "* [computer graphics](https://github.com/4dsolutions/School_of_Tomorrow/blob/master/Flextegrity_Lattice.ipynb) for clients\n",
    "\n",
    "Numpy + Pandas + Matplotlib allows me to keep up with professional standards when it comes to the look and feel of electronic documents.\n",
    "\n",
    "<a data-flickr-embed=\"true\" href=\"https://www.flickr.com/photos/kirbyurner/51989560145/in/dateposted-public/\" title=\"TetraBook Page Sweepout\"><img src=\"https://live.staticflickr.com/65535/51989560145_0dd50f039d_n.jpg\" width=\"320\" height=\"175\" alt=\"TetraBook Page Sweepout\"></a><script async src=\"//embedr.flickr.com/assets/client-code.js\" charset=\"utf-8\"></script>\n",
    "\n",
    "How do I participate in my community?\n",
    "\n",
    "* OSCON program committee\n",
    "* [Python edu-sig](https://www.python.org/community/sigs/current/edu-sig/) discussion list\n",
    "* [ISEPP.org](https://isepp.org)\n",
    "* Pycon and Python User Groups\n",
    "* other User Groups and conferences\n",
    "\n",
    "Open Source Projects:\n",
    "\n",
    "[Repos on Github](https://github.com/4dsolutions)\n",
    "\n",
    "Proprietary Projects (with public footprint):\n",
    "\n",
    "* [Clarusway courses](https://github.com/4dsolutions/clarusway_data_analysis)\n",
    "* [Sunshine Elite Education](https://www.sunshineeliteeducation.com/index.php)\n",
    "\n",
    "Other links of interest:\n",
    "\n",
    "[The Scientific Paper is Obsolete](https://www.theatlantic.com/science/archive/2018/04/the-scientific-paper-is-obsolete/556676/)\n",
    "\n",
    "[As We May Think](https://www.theatlantic.com/magazine/archive/1945/07/as-we-may-think/303881/)\n",
    "\n",
    "\n",
    "<a data-flickr-embed=\"true\" href=\"https://www.flickr.com/photos/kirbyurner/51860825059/\" title=\"O&#x27;Reilly School of Technology Business Card\"><img src=\"https://live.staticflickr.com/65535/51860825059_f0067c828a_z.jpg\" width=\"320\" height=\"191\" alt=\"O&#x27;Reilly School of Technology Business Card\"></a><script async src=\"//embedr.flickr.com/assets/client-code.js\" charset=\"utf-8\"></script>\n",
    "<br />\n",
    "<i>biz card from a previous job</i>\n"
   ]
  },
  {
   "cell_type": "code",
   "execution_count": null,
   "id": "29876ac8-b7ac-46d7-a7c2-472fdc4f3075",
   "metadata": {},
   "outputs": [],
   "source": []
  }
 ],
 "metadata": {
  "kernelspec": {
   "display_name": "Python 3 (ipykernel)",
   "language": "python",
   "name": "python3"
  },
  "language_info": {
   "codemirror_mode": {
    "name": "ipython",
    "version": 3
   },
   "file_extension": ".py",
   "mimetype": "text/x-python",
   "name": "python",
   "nbconvert_exporter": "python",
   "pygments_lexer": "ipython3",
   "version": "3.9.12"
  }
 },
 "nbformat": 4,
 "nbformat_minor": 5
}
