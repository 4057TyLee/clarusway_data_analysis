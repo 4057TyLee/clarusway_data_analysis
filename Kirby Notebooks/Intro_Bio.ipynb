{
 "cells": [
  {
   "cell_type": "markdown",
   "id": "bdb1e706-103e-4ddf-8bf9-33a4b3dc1d27",
   "metadata": {
    "tags": []
   },
   "source": [
    "#### Who Am I?\n",
    "\n",
    "\n",
    "One of my best Python teaching gigs:\n",
    "\n",
    "[Hubble Space Telescope Faculty](https://worldgame.blogspot.com/2010/04/python-gig.html)\n",
    "\n",
    "Active [on Quora](https://www.quora.com/profile/Kirby-Urner)\n",
    "\n",
    "Where do I use numpy, pandas etc.?\n",
    "\n",
    "Exhibits:\n",
    "\n",
    "* [course instruction](https://github.com/4dsolutions/clarusway_data_analysis)\n",
    "* [curriculum writing](https://github.com/4dsolutions/elite_school) for schools\n",
    "* study with polyhedrons\n",
    "\n",
    "Numpy + Pandas + Matplotlib allows me to keep up with professional standards when it comes to the look and feel of electronic documents.\n",
    "\n",
    "How do I participate in my community?\n",
    "\n",
    "* OSCON program committee\n",
    "* Python edu-sig discussion list\n",
    "* ISEPP.org\n",
    "* Pycon and Python User Groups\n",
    "* other User Groups and conferences\n",
    "\n",
    "Open Source Projects:\n",
    "\n",
    "[Repos on Github](https://github.com/4dsolutions)\n",
    "\n",
    "[Clarusway Data Analysis](https://github.com/4dsolutions/clarusway_data_analysis)\n",
    "\n",
    "Other links of interest:\n",
    "\n",
    "[The Scientific Paper is Obsolete](https://www.theatlantic.com/science/archive/2018/04/the-scientific-paper-is-obsolete/556676/)\n",
    "\n",
    "[As We May Think](https://www.theatlantic.com/magazine/archive/1945/07/as-we-may-think/303881/)\n",
    "\n",
    "\n",
    "<a data-flickr-embed=\"true\" href=\"https://www.flickr.com/photos/kirbyurner/51860825059/\" title=\"O&#x27;Reilly School of Technology Business Card\"><img src=\"https://live.staticflickr.com/65535/51860825059_f0067c828a_z.jpg\" width=\"320\" height=\"191\" alt=\"O&#x27;Reilly School of Technology Business Card\"></a><script async src=\"//embedr.flickr.com/assets/client-code.js\" charset=\"utf-8\"></script>\n",
    "<br />\n",
    "<i>biz card from a previous job</i>\n"
   ]
  }
 ],
 "metadata": {
  "kernelspec": {
   "display_name": "Python 3 (ipykernel)",
   "language": "python",
   "name": "python3"
  },
  "language_info": {
   "codemirror_mode": {
    "name": "ipython",
    "version": 3
   },
   "file_extension": ".py",
   "mimetype": "text/x-python",
   "name": "python",
   "nbconvert_exporter": "python",
   "pygments_lexer": "ipython3",
   "version": "3.9.12"
  }
 },
 "nbformat": 4,
 "nbformat_minor": 5
}
