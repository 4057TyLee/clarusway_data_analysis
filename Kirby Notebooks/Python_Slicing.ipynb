{
 "cells": [
  {
   "cell_type": "markdown",
   "id": "9f9bfd2e-c4f0-4b58-8b88-ab18c9a30db6",
   "metadata": {},
   "source": [
    "#### Showing...\n",
    "\n",
    "That numpy and pandas syntax is compatible with Python."
   ]
  },
  {
   "cell_type": "code",
   "execution_count": 2,
   "id": "f42f4ace-3c4d-40dc-b036-9e02f6003798",
   "metadata": {},
   "outputs": [
    {
     "data": {
      "text/plain": [
       "'1.21.5'"
      ]
     },
     "execution_count": 2,
     "metadata": {},
     "output_type": "execute_result"
    }
   ],
   "source": [
    "import numpy as np\n",
    "np.__version__"
   ]
  },
  {
   "cell_type": "code",
   "execution_count": 4,
   "id": "6531bfbe-e8b6-48e9-a3b2-088d3930fc9d",
   "metadata": {},
   "outputs": [
    {
     "data": {
      "text/plain": [
       "array([[1., 0., 0., 0., 0.],\n",
       "       [0., 1., 0., 0., 0.],\n",
       "       [0., 0., 1., 0., 0.],\n",
       "       [0., 0., 0., 1., 0.],\n",
       "       [0., 0., 0., 0., 1.]])"
      ]
     },
     "execution_count": 4,
     "metadata": {},
     "output_type": "execute_result"
    }
   ],
   "source": [
    "eye = np.eye(5) # identity matrix\n",
    "eye"
   ]
  },
  {
   "cell_type": "code",
   "execution_count": null,
   "id": "dd00d17e-0f9e-4823-9553-694e31429d58",
   "metadata": {},
   "outputs": [],
   "source": [
    "eye[0:4, 1:-4]  # <-- two slices"
   ]
  },
  {
   "cell_type": "code",
   "execution_count": null,
   "id": "43cecf9c-dcf4-47fa-8770-dd50524278a2",
   "metadata": {},
   "outputs": [],
   "source": [
    "class Nummy:\n",
    "    \n",
    "    def __getitem__(self, obj):\n",
    "        print(obj)"
   ]
  },
  {
   "cell_type": "code",
   "execution_count": null,
   "id": "146c42a1-49dc-4258-bde9-1798b3f6711d",
   "metadata": {},
   "outputs": [],
   "source": [
    "row_slice = slice(0, 10)\n",
    "col_slice = slice(1, None)"
   ]
  },
  {
   "cell_type": "code",
   "execution_count": null,
   "id": "fa75bdc6-a864-4a72-98e8-f24460dacabf",
   "metadata": {},
   "outputs": [],
   "source": [
    "onum = Nummy()"
   ]
  },
  {
   "cell_type": "code",
   "execution_count": null,
   "id": "9b8cec12-a579-4669-a7a4-1bc2f9dbc644",
   "metadata": {},
   "outputs": [],
   "source": [
    "onum[row_slice, col_slice]"
   ]
  },
  {
   "cell_type": "code",
   "execution_count": null,
   "id": "8187f4f1-1bd6-45c1-a010-47f0896494b9",
   "metadata": {},
   "outputs": [],
   "source": [
    "onum[1:4, -2:-7]"
   ]
  }
 ],
 "metadata": {
  "kernelspec": {
   "display_name": "Python 3 (ipykernel)",
   "language": "python",
   "name": "python3"
  },
  "language_info": {
   "codemirror_mode": {
    "name": "ipython",
    "version": 3
   },
   "file_extension": ".py",
   "mimetype": "text/x-python",
   "name": "python",
   "nbconvert_exporter": "python",
   "pygments_lexer": "ipython3",
   "version": "3.9.12"
  }
 },
 "nbformat": 4,
 "nbformat_minor": 5
}
