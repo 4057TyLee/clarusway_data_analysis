{
 "cells": [
  {
   "cell_type": "markdown",
   "id": "b84d0398-0a9b-4d1f-9d9e-14ac478921f6",
   "metadata": {},
   "source": [
    "# Showing...\n",
    "\n",
    "Casting a pandas Series to a Python type"
   ]
  },
  {
   "cell_type": "code",
   "execution_count": 36,
   "id": "81369336-de34-4dcb-ae02-17e39d8e1ad9",
   "metadata": {},
   "outputs": [],
   "source": [
    "import pandas as pd\n",
    "import numpy as np"
   ]
  },
  {
   "cell_type": "code",
   "execution_count": 6,
   "id": "e938e4fc-4c23-43fc-aad3-fff9e20ca839",
   "metadata": {},
   "outputs": [],
   "source": [
    "the_data = np.array([1, 2, 3, 4, 4, 5, 6])"
   ]
  },
  {
   "cell_type": "code",
   "execution_count": 7,
   "id": "f7a1e297-df35-408e-995e-a69988aa5f24",
   "metadata": {},
   "outputs": [
    {
     "data": {
      "text/plain": [
       "array([1, 2, 3, 4, 4, 5, 6])"
      ]
     },
     "execution_count": 7,
     "metadata": {},
     "output_type": "execute_result"
    }
   ],
   "source": [
    "the_data"
   ]
  },
  {
   "cell_type": "code",
   "execution_count": 25,
   "id": "896bdd53-673e-4e44-b727-355afd9a72d8",
   "metadata": {},
   "outputs": [
    {
     "data": {
      "text/plain": [
       "A    1\n",
       "B    2\n",
       "C    3\n",
       "D    4\n",
       "E    4\n",
       "F    5\n",
       "G    6\n",
       "Name: Dupes, dtype: int64"
      ]
     },
     "execution_count": 25,
     "metadata": {},
     "output_type": "execute_result"
    }
   ],
   "source": [
    "s = pd.Series(the_data, index = list(\"ABCDEFG\"), name=\"Dupes\")\n",
    "s"
   ]
  },
  {
   "cell_type": "code",
   "execution_count": 26,
   "id": "abc26bb9-3007-4480-8908-f7afad0b6ea5",
   "metadata": {},
   "outputs": [
    {
     "data": {
      "text/plain": [
       "A    1.0\n",
       "B    2.0\n",
       "C    3.0\n",
       "D    4.0\n",
       "E    4.0\n",
       "F    5.0\n",
       "G    6.0\n",
       "Name: Dupes, dtype: float32"
      ]
     },
     "execution_count": 26,
     "metadata": {},
     "output_type": "execute_result"
    }
   ],
   "source": [
    "s.astype(np.float32)"
   ]
  },
  {
   "cell_type": "code",
   "execution_count": 35,
   "id": "97b663e5-073d-4d44-bb72-e6f35207d91e",
   "metadata": {},
   "outputs": [
    {
     "ename": "ModuleNotFoundError",
     "evalue": "No module named 'openpyxl'",
     "output_type": "error",
     "traceback": [
      "\u001b[0;31m---------------------------------------------------------------------------\u001b[0m",
      "\u001b[0;31mModuleNotFoundError\u001b[0m                       Traceback (most recent call last)",
      "Input \u001b[0;32mIn [35]\u001b[0m, in \u001b[0;36m<cell line: 1>\u001b[0;34m()\u001b[0m\n\u001b[0;32m----> 1\u001b[0m \u001b[38;5;28;01mwith\u001b[39;00m \u001b[43mpd\u001b[49m\u001b[38;5;241;43m.\u001b[39;49m\u001b[43mExcelWriter\u001b[49m\u001b[43m(\u001b[49m\u001b[38;5;124;43m\"\u001b[39;49m\u001b[38;5;124;43mthe_series.xlsx\u001b[39;49m\u001b[38;5;124;43m\"\u001b[39;49m\u001b[43m)\u001b[49m \u001b[38;5;28;01mas\u001b[39;00m writer:\n\u001b[1;32m      2\u001b[0m     s\u001b[38;5;241m.\u001b[39mto_excel(writer)\n",
      "File \u001b[0;32m~/opt/anaconda3/envs/new_world/lib/python3.9/site-packages/pandas/io/excel/_openpyxl.py:49\u001b[0m, in \u001b[0;36mOpenpyxlWriter.__init__\u001b[0;34m(self, path, engine, date_format, datetime_format, mode, storage_options, if_sheet_exists, engine_kwargs, **kwargs)\u001b[0m\n\u001b[1;32m     36\u001b[0m \u001b[38;5;28;01mdef\u001b[39;00m \u001b[38;5;21m__init__\u001b[39m(\n\u001b[1;32m     37\u001b[0m     \u001b[38;5;28mself\u001b[39m,\n\u001b[1;32m     38\u001b[0m     path,\n\u001b[0;32m   (...)\u001b[0m\n\u001b[1;32m     47\u001b[0m ):\n\u001b[1;32m     48\u001b[0m     \u001b[38;5;66;03m# Use the openpyxl module as the Excel writer.\u001b[39;00m\n\u001b[0;32m---> 49\u001b[0m     \u001b[38;5;28;01mfrom\u001b[39;00m \u001b[38;5;21;01mopenpyxl\u001b[39;00m\u001b[38;5;21;01m.\u001b[39;00m\u001b[38;5;21;01mworkbook\u001b[39;00m \u001b[38;5;28;01mimport\u001b[39;00m Workbook\n\u001b[1;32m     51\u001b[0m     engine_kwargs \u001b[38;5;241m=\u001b[39m combine_kwargs(engine_kwargs, kwargs)\n\u001b[1;32m     53\u001b[0m     \u001b[38;5;28msuper\u001b[39m()\u001b[38;5;241m.\u001b[39m\u001b[38;5;21m__init__\u001b[39m(\n\u001b[1;32m     54\u001b[0m         path,\n\u001b[1;32m     55\u001b[0m         mode\u001b[38;5;241m=\u001b[39mmode,\n\u001b[0;32m   (...)\u001b[0m\n\u001b[1;32m     58\u001b[0m         engine_kwargs\u001b[38;5;241m=\u001b[39mengine_kwargs,\n\u001b[1;32m     59\u001b[0m     )\n",
      "\u001b[0;31mModuleNotFoundError\u001b[0m: No module named 'openpyxl'"
     ]
    }
   ],
   "source": [
    "with pd.ExcelWriter(\"the_series.xlsx\") as writer:\n",
    "    s.to_excel(writer) "
   ]
  },
  {
   "cell_type": "code",
   "execution_count": 27,
   "id": "cd3a9b20-116b-4dc3-b343-56d9565ecf6b",
   "metadata": {},
   "outputs": [
    {
     "data": {
      "text/plain": [
       "{'A': 1, 'B': 2, 'C': 3, 'D': 4, 'E': 4, 'F': 5, 'G': 6}"
      ]
     },
     "execution_count": 27,
     "metadata": {},
     "output_type": "execute_result"
    }
   ],
   "source": [
    "s.to_dict()"
   ]
  }
 ],
 "metadata": {
  "kernelspec": {
   "display_name": "Python 3 (ipykernel)",
   "language": "python",
   "name": "python3"
  },
  "language_info": {
   "codemirror_mode": {
    "name": "ipython",
    "version": 3
   },
   "file_extension": ".py",
   "mimetype": "text/x-python",
   "name": "python",
   "nbconvert_exporter": "python",
   "pygments_lexer": "ipython3",
   "version": "3.9.12"
  }
 },
 "nbformat": 4,
 "nbformat_minor": 5
}
