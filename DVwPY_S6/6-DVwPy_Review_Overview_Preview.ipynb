{
 "cells": [
  {
   "cell_type": "markdown",
   "metadata": {
    "id": "GNJ8DeRtAzaB"
   },
   "source": [
    "___\n",
    "\n",
    "<p style=\"text-align: center;\"><img src=\"https://docs.google.com/uc?id=1lY0Uj5R04yMY3-ZppPWxqCr5pvBLYPnV\" class=\"img-fluid\" \n",
    "alt=\"CLRSWY\"></p>\n",
    "\n",
    "## <p style=\"background-color:#FDFEFE; font-family:newtimeroman; color:#9d4f8c; font-size:100%; text-align:center; border-radius:10px 10px;\">WAY TO REINVENT YOURSELF</p>"
   ]
  },
  {
   "cell_type": "markdown",
   "metadata": {
    "id": "iYlfU09rAzaI"
   },
   "source": [
    "## <p style=\"background-color:#9d4f8c; font-family:newtimeroman; color:#FFF9ED; font-size:150%; text-align:center; border-radius:10px 10px;\">REVIEW, OVERVIEW, PREVIEW...</p>\n",
    "\n",
    "Welcome to the conclusion of Data Visualization, with Python.\n",
    "\n",
    "The skillsets we have been most developing in the foreground encompass:\n",
    "\n",
    "* Jupyter -- how we keep our Notes and sometimes publish them\n",
    "* numpy -- the number crunching king of vectorized operations\n",
    "* matplotlib -- plotly imitates Matlab's way of doing things\n",
    "* pandas -- sophisticated DataFrames, isomorphic to spreadsheets*\n",
    "* seaborn -- augmented data visualization, beyond anything up to now\n",
    "* python -- Python itself has more power, as one learns to tap it\n",
    "\n",
    "A core theme of both Data Analysis with Python, and this course, has been Exploratory Data Analysis (EDA).  We imagine the data is a black box at first, and over time we learn to get a sense of it.  Even though we share the details of visualizations in Part 2 (this part), they apply throughout Part 1 i.e. you may start using the power of visualizations right away in EDA.\n",
    "\n",
    "Then come the skillsets we might optionally cultivate in the background.  We might tackle one or more IDEs (vim, vscode, spyder...), remember our HTML (Requests package), practice our Regular Expressions.  \n",
    "\n",
    "Actually, we could add Regexes to the foreground list.\n",
    "\n",
    "$LaTeX$ has been a subskill under Jupyter.  To maximize our Markdown, we want to master typesetting convertional mathematical expressions.\n",
    "\n",
    "Throughout this course, we have alluded to SQL, which accomplished many of the very same tasks but through a different semantics.  We use them both."
   ]
  },
  {
   "cell_type": "markdown",
   "metadata": {},
   "source": [
    "<a id=\"toc\"></a>\n",
    "\n",
    "## <p style=\"background-color:#9d4f8c; font-family:newtimeroman; color:#FFF9ED; font-size:150%; text-align:center; border-radius:10px 10px;\">CONTENT</p>\n",
    "\n",
    "Topics We Covered:\n",
    "\n",
    "* numpy - vectorized powerhouse\n",
    "* pandas - series + tabular dataframes + plots\n",
    "* matplotlib - plots (2D and 3D)\n",
    "* seaborn - fancier plots\n",
    "* etc.\n",
    "\n",
    "Topics \"Ahead\":\n",
    "\n",
    "* ml  (machine learning)\n",
    "* sql  (structured query language)\n",
    "* python (there's always a next level)\n",
    "* geospatial data (in the cards for us all)\n",
    "* [jupyter books](https://jupyterbook.org/en/stable/intro.html) (extending notebook skills)\n",
    "\n",
    "We say \"ahead\" because you may have come from there.  We suggest more stats, but you are coming from knowing stats.\n",
    "\n",
    "In Preview mode then, lets talk about:  *Machine Learning*.\n",
    "\n",
    "Since the very first slides, we have emphasized that what we're picturing is appying data analysis (including visualization) skills as a way of preparing and including some kind of model making.  A mental model may be enough, if the data fits some expected and understood pattern (\"retail sales\"), but we thrive on computational algorithms, and this is where ML comes in."
   ]
  },
  {
   "cell_type": "markdown",
   "metadata": {
    "id": "E5TMW6XaAzaJ"
   },
   "source": [
    "<a id=\"toc\"></a>\n",
    "\n",
    "## <p style=\"background-color:#9d4f8c; font-family:newtimeroman; color:#FFF9ED; font-size:150%; text-align:center; border-radius:10px 10px;\">Preview:  What is ML?</p>\n",
    "Throughout the subject of Statistics, a core aim has been prediction.  Since the dawn of history, we have had a need to divine the future, yet encounter limits on predictability.  \n",
    "\n",
    "The age old project to distill our intuitions about such concepts of \"likelihood\", \"expectations\", \"confidance\", into a science is part of the heritage of data science.\n",
    "\n",
    "What what measure of confidance do expect X to happen?  Does my measure of confidance change with respect to some \"by when?\".  I might expect X to happen someday with 100% confidance, yet with no confidance at all about tomorrow or next week.  \n",
    "\n",
    "These may sound like obvious truths, however in getting clear on such topics, we learn methods of computation.  We don't stop with some hazy notion of \"average\"; we break it out into mean, medium and mode.\n",
    "\n",
    "We hope intelligently anticipate (more than wildly or blindly guess), based on the many models we have developed.  \n",
    "\n",
    "By model, we could mean a simulation.  Does our simulation run as a computer program?  Not necessarily.  People were simulating complex systems long before they had invented silicon chip computers.\n",
    "\n",
    "We could also mean, my \"model\", some actual Python object developed for us by one of the model makers (KM, SVM...).\n",
    "\n",
    "Who are the model makers?\n",
    "\n",
    "The model makers are well-known and/or still experimental algorithms.  We categorize them in various ways, such as into supervised and unsupervised. A good example of a working model would be a recommendation engine attached to a website.  \"Based on your choice of books so far, a next one of interest might be...\".  \n",
    "\n",
    "A model need not be mysterious and opaque.  A simple line through a bunch of dots well summarizes many of them.  However some models attain their high powers of prediction at the expense of being able to give us a set of rules.\n",
    "\n",
    "[A Quick List of ML Algorithms](https://howtolearnmachinelearning.com/articles/a-quick-list-of-machine-learning-algorithms/)\n",
    "\n",
    "More concretely, in the supervised learning setting, we show the features (X) and the right answers (y) to a \"learner\" or \"recognizer\" known as a neural net, consider deep after N layers.  The feedback of getting it wrong or right is used to \"weight\" the \"neurons\" through a process known as \"gradient descent\" (uses calculus, partial derivatives, finds a downward path for an error function).\n",
    "\n",
    "The above paragraph puts into words a lot of number crunchy math, which numpy is good at.  What we get back from such a process is a Python object that has powers of prediction.  But to what degree?  How good is it?  Should we turn it loose in the real world?"
   ]
  },
  {
   "cell_type": "markdown",
   "metadata": {
    "id": "mN0CH7VfAzaK"
   },
   "source": [
    "## <p style=\"background-color:#9d4f8c; font-family:newtimeroman; color:#FFF9ED; font-size:150%; text-align:center; border-radius:10px 10px;\">THE ML PROCESS</p>\n",
    "\n",
    "Think about how you yourself learn from experience?  Having a strong sense of a right answer or how you want things to go, is motivational.  Machine Learning sets up a similar feedback loop in the algebra, especially in a supervised setting.\n",
    "\n",
    "The main question before us is one of reliability.  Does our model do the job?  Is a newer model an improvement?\n",
    "\n",
    "One standard approach, to test reliability, is as follows:\n",
    "\n",
    "* give the right answers on a percentage of the total data (training)\n",
    "* try the model against the balance (the rest), never seen\n",
    "* do more testing\n",
    "\n",
    "As you explore Sci-Kit Learn, you will find this standard approach is baked in, through time-saving functions that automatically divvy the data into training and testing sets.\n",
    "\n",
    "The process is akin to shuffling cards as the same total data may be divvyed into testing and training in multiple ways, allowing for more averaging and perhaps fine tuning.  We looked at similar bootstrapping ideas in connection with the Confidance Interval (Seaborn barplot etc.).\n",
    "\n",
    "What's left out of the above description is the whole matter of selecting the appropriate ML engine (model maker), with fine tuned hyperparameters. \n",
    "\n",
    "That process itself suggests a feedback loop:  why not try several ML engines on the same data and find by experiment which seems to work best. Indeed, that's a thing.\n",
    "\n",
    "You will find sklearn support \"ensembles\" of model makers to work together. Sometimes they each reach a conclusion then hold a vote.  Random Forests made of Decision Trees behave in ensemble fashion."
   ]
  },
  {
   "cell_type": "markdown",
   "metadata": {
    "id": "K9eNE2ugAzaK"
   },
   "source": [
    "## <p style=\"background-color:#9d4f8c; font-family:newtimeroman; color:#FFF9ED; font-size:150%; text-align:center; border-radius:10px 10px;\">EXAMPLES:  FINDING CLUSTERS</p>\n",
    "\n",
    "Finding clusters is sometimes an \"unsupervised\" form of ML, meaning we do not have a dataset with \"right answers\" for training purposes.  We are looking for patterns in target data without knowing ourselves what they are beforehand.  \n",
    "\n",
    "Other times, we have our clusters defined for training data, in which case the process is \"supervised\".\n",
    "\n",
    "For example, we might want to cluster tweets and short reports into \"topics\" (what the cluster around).  We don't know in advance what those topics will be.  Here's a tutorial \n",
    "\n",
    "When learning about cluster finding, we also learn about cluster making.  Here's a data science teacher mixing some clustered data, in order to discover if SVM (one of the model makers) will find them."
   ]
  },
  {
   "cell_type": "code",
   "execution_count": 2,
   "metadata": {},
   "outputs": [
    {
     "data": {
      "text/plain": [
       "array([[-0.31178367,  0.72900392],\n",
       "       [ 0.21782079, -0.8990918 ],\n",
       "       [-2.48678065,  0.91325152],\n",
       "       [ 1.12706373, -1.51409323],\n",
       "       [ 1.63929108, -0.4298936 ],\n",
       "       [ 2.63128056,  0.60182225],\n",
       "       [-0.33588161,  1.23773784],\n",
       "       [ 0.11112817,  0.12915125],\n",
       "       [ 0.07612761, -0.15512816],\n",
       "       [ 0.63422534,  0.810655  ]])"
      ]
     },
     "execution_count": 2,
     "metadata": {},
     "output_type": "execute_result"
    }
   ],
   "source": [
    "from sklearn.svm import SVC\n",
    "import numpy as np\n",
    "import matplotlib.pyplot as plt\n",
    "# from mlxtend.plotting import plot_decision_regions\n",
    "\n",
    "# create some V shaped data\n",
    "np.random.seed(6)\n",
    "# normalized floats, 200 rows, 2 columns\n",
    "X = np.random.randn(200, 2)\n",
    "X[:10,:]"
   ]
  },
  {
   "cell_type": "code",
   "execution_count": 3,
   "metadata": {},
   "outputs": [
    {
     "data": {
      "text/plain": [
       "array([ True, False, False, False, False, False,  True,  True, False,\n",
       "        True])"
      ]
     },
     "execution_count": 3,
     "metadata": {},
     "output_type": "execute_result"
    }
   ],
   "source": [
    "# create a \"predict me\" vector\n",
    "y = X[:, 1] > np.absolute(X[:, 0])\n",
    "y[:10]"
   ]
  },
  {
   "cell_type": "code",
   "execution_count": 4,
   "metadata": {},
   "outputs": [
    {
     "data": {
      "text/plain": [
       "array([ 1, -1, -1, -1, -1, -1,  1,  1, -1,  1])"
      ]
     },
     "execution_count": 4,
     "metadata": {},
     "output_type": "execute_result"
    }
   ],
   "source": [
    "y = np.where(y, 1, -1)\n",
    "y[:10]"
   ]
  },
  {
   "cell_type": "markdown",
   "metadata": {},
   "source": [
    "The Support Vector Machine is pretty good at teasing apart the y=1 from the y=-1, but will not get it right 100% of the time.\n",
    "\n",
    "We're not requiring `mlxtend.plotting` to run this Notebook, but Google colab has it, so here's a screen shot:"
   ]
  },
  {
   "cell_type": "markdown",
   "metadata": {},
   "source": [
    "<a data-flickr-embed=\"true\" href=\"https://www.flickr.com/photos/kirbyurner/52313045333/in/dateposted-public/\" title=\"Screen Shot 2022-08-26 at 11.25.15 AM\"><img src=\"https://live.staticflickr.com/65535/52313045333_a499f458dc_z.jpg\" width=\"640\" height=\"513\" alt=\"Screen Shot 2022-08-26 at 11.25.15 AM\"></a><script async src=\"//embedr.flickr.com/assets/client-code.js\" charset=\"utf-8\"></script>"
   ]
  },
  {
   "cell_type": "code",
   "execution_count": 6,
   "metadata": {},
   "outputs": [
    {
     "data": {
      "text/plain": [
       "SVC(C=10.0, gamma=0.5, random_state=0)"
      ]
     },
     "execution_count": 6,
     "metadata": {},
     "output_type": "execute_result"
    }
   ],
   "source": [
    "# train a Support Vector Classifier using the rbf kernel\n",
    "svm = SVC(kernel='rbf', random_state=0, gamma=0.5, C=10.0)\n",
    "svm.fit(X, y)"
   ]
  },
  {
   "cell_type": "markdown",
   "metadata": {},
   "source": [
    "Make up some new X points.  Point = any number of features (columns)"
   ]
  },
  {
   "cell_type": "code",
   "execution_count": 10,
   "metadata": {},
   "outputs": [
    {
     "data": {
      "text/plain": [
       "array([[-0.99,  1.1 ],\n",
       "       [ 0.12,  0.33],\n",
       "       [-3.  ,  1.  ]])"
      ]
     },
     "execution_count": 10,
     "metadata": {},
     "output_type": "execute_result"
    }
   ],
   "source": [
    "data = np.array([[-0.99, 1.1],\n",
    "                  [.12, .33],\n",
    "                  [-3, 1]])\n",
    "data"
   ]
  },
  {
   "cell_type": "markdown",
   "metadata": {},
   "source": [
    "What would the model predict?"
   ]
  },
  {
   "cell_type": "code",
   "execution_count": 11,
   "metadata": {},
   "outputs": [
    {
     "data": {
      "text/plain": [
       "array([ 1,  1, -1])"
      ]
     },
     "execution_count": 11,
     "metadata": {},
     "output_type": "execute_result"
    }
   ],
   "source": [
    "svm.predict(data)"
   ]
  },
  {
   "cell_type": "markdown",
   "metadata": {},
   "source": [
    "What would we consider correct?"
   ]
  },
  {
   "cell_type": "code",
   "execution_count": 13,
   "metadata": {},
   "outputs": [
    {
     "data": {
      "text/plain": [
       "array([ True,  True, False])"
      ]
     },
     "execution_count": 13,
     "metadata": {},
     "output_type": "execute_result"
    }
   ],
   "source": [
    "y = data[:, 1] > np.absolute(data[:, 0])\n",
    "y"
   ]
  },
  {
   "cell_type": "markdown",
   "metadata": {
    "id": "uSlEdW1A20Io"
   },
   "source": [
    "## <p style=\"background-color:#9d4f8c; font-family:newtimeroman; color:#FFF9ED; font-size:150%; text-align:center; border-radius:10px 10px;\">Categorizing</p>\n",
    "\n",
    "**Clickbait Versus Headlines**\n",
    "\n",
    "We will need pandas for this next example, with its amazing ability to read csv files over the web, taking a URL as input.\n",
    "\n",
    "The file below is actually just a txt file, a csv with no headers, and it's delimited by tab.  No problemo:"
   ]
  },
  {
   "cell_type": "code",
   "execution_count": 14,
   "metadata": {},
   "outputs": [],
   "source": [
    "import pandas as pd"
   ]
  },
  {
   "cell_type": "code",
   "execution_count": 15,
   "metadata": {
    "id": "GL3nsXNYAzaL"
   },
   "outputs": [],
   "source": [
    "df_clickbait = pd.read_csv(\"https://raw.githubusercontent.com/sixhobbits/sklearn-intro/master/clickbait.txt\", sep=\"\\t\", header=None)"
   ]
  },
  {
   "cell_type": "code",
   "execution_count": 16,
   "metadata": {},
   "outputs": [
    {
     "name": "stdout",
     "output_type": "stream",
     "text": [
      "<class 'pandas.core.frame.DataFrame'>\n",
      "RangeIndex: 10000 entries, 0 to 9999\n",
      "Data columns (total 2 columns):\n",
      " #   Column  Non-Null Count  Dtype \n",
      "---  ------  --------------  ----- \n",
      " 0   0       10000 non-null  object\n",
      " 1   1       10000 non-null  int64 \n",
      "dtypes: int64(1), object(1)\n",
      "memory usage: 156.4+ KB\n"
     ]
    }
   ],
   "source": [
    "df_clickbait.info()"
   ]
  },
  {
   "cell_type": "code",
   "execution_count": 17,
   "metadata": {},
   "outputs": [
    {
     "data": {
      "text/html": [
       "<div>\n",
       "<style scoped>\n",
       "    .dataframe tbody tr th:only-of-type {\n",
       "        vertical-align: middle;\n",
       "    }\n",
       "\n",
       "    .dataframe tbody tr th {\n",
       "        vertical-align: top;\n",
       "    }\n",
       "\n",
       "    .dataframe thead th {\n",
       "        text-align: right;\n",
       "    }\n",
       "</style>\n",
       "<table border=\"1\" class=\"dataframe\">\n",
       "  <thead>\n",
       "    <tr style=\"text-align: right;\">\n",
       "      <th></th>\n",
       "      <th>1</th>\n",
       "    </tr>\n",
       "  </thead>\n",
       "  <tbody>\n",
       "    <tr>\n",
       "      <th>count</th>\n",
       "      <td>10000.000000</td>\n",
       "    </tr>\n",
       "    <tr>\n",
       "      <th>mean</th>\n",
       "      <td>0.500000</td>\n",
       "    </tr>\n",
       "    <tr>\n",
       "      <th>std</th>\n",
       "      <td>0.500025</td>\n",
       "    </tr>\n",
       "    <tr>\n",
       "      <th>min</th>\n",
       "      <td>0.000000</td>\n",
       "    </tr>\n",
       "    <tr>\n",
       "      <th>25%</th>\n",
       "      <td>0.000000</td>\n",
       "    </tr>\n",
       "    <tr>\n",
       "      <th>50%</th>\n",
       "      <td>0.500000</td>\n",
       "    </tr>\n",
       "    <tr>\n",
       "      <th>75%</th>\n",
       "      <td>1.000000</td>\n",
       "    </tr>\n",
       "    <tr>\n",
       "      <th>max</th>\n",
       "      <td>1.000000</td>\n",
       "    </tr>\n",
       "  </tbody>\n",
       "</table>\n",
       "</div>"
      ],
      "text/plain": [
       "                  1\n",
       "count  10000.000000\n",
       "mean       0.500000\n",
       "std        0.500025\n",
       "min        0.000000\n",
       "25%        0.000000\n",
       "50%        0.500000\n",
       "75%        1.000000\n",
       "max        1.000000"
      ]
     },
     "execution_count": 17,
     "metadata": {},
     "output_type": "execute_result"
    }
   ],
   "source": [
    "df_clickbait.describe()"
   ]
  },
  {
   "cell_type": "code",
   "execution_count": 19,
   "metadata": {},
   "outputs": [
    {
     "data": {
      "text/html": [
       "<div>\n",
       "<style scoped>\n",
       "    .dataframe tbody tr th:only-of-type {\n",
       "        vertical-align: middle;\n",
       "    }\n",
       "\n",
       "    .dataframe tbody tr th {\n",
       "        vertical-align: top;\n",
       "    }\n",
       "\n",
       "    .dataframe thead th {\n",
       "        text-align: right;\n",
       "    }\n",
       "</style>\n",
       "<table border=\"1\" class=\"dataframe\">\n",
       "  <thead>\n",
       "    <tr style=\"text-align: right;\">\n",
       "      <th></th>\n",
       "      <th>0</th>\n",
       "      <th>1</th>\n",
       "    </tr>\n",
       "  </thead>\n",
       "  <tbody>\n",
       "    <tr>\n",
       "      <th>0</th>\n",
       "      <td>Egypt's top envoy in Iraq confirmed killed</td>\n",
       "      <td>0</td>\n",
       "    </tr>\n",
       "    <tr>\n",
       "      <th>1</th>\n",
       "      <td>Carter: Race relations in Palestine are worse ...</td>\n",
       "      <td>0</td>\n",
       "    </tr>\n",
       "    <tr>\n",
       "      <th>2</th>\n",
       "      <td>After Years Of Dutiful Service, The Shiba Who ...</td>\n",
       "      <td>1</td>\n",
       "    </tr>\n",
       "    <tr>\n",
       "      <th>3</th>\n",
       "      <td>In Books on Two Powerbrokers, Hints of the Future</td>\n",
       "      <td>0</td>\n",
       "    </tr>\n",
       "    <tr>\n",
       "      <th>4</th>\n",
       "      <td>These Horrifyingly Satisfying Photos Of \"Baby ...</td>\n",
       "      <td>1</td>\n",
       "    </tr>\n",
       "    <tr>\n",
       "      <th>...</th>\n",
       "      <td>...</td>\n",
       "      <td>...</td>\n",
       "    </tr>\n",
       "    <tr>\n",
       "      <th>9995</th>\n",
       "      <td>What Is Your Weirdest Fear</td>\n",
       "      <td>1</td>\n",
       "    </tr>\n",
       "    <tr>\n",
       "      <th>9996</th>\n",
       "      <td>Felipe Massa wins 2008 French Grand Prix</td>\n",
       "      <td>0</td>\n",
       "    </tr>\n",
       "    <tr>\n",
       "      <th>9997</th>\n",
       "      <td>Bottled water concerns health experts</td>\n",
       "      <td>0</td>\n",
       "    </tr>\n",
       "    <tr>\n",
       "      <th>9998</th>\n",
       "      <td>Death of Nancy Benoit rumour posted on Wikiped...</td>\n",
       "      <td>0</td>\n",
       "    </tr>\n",
       "    <tr>\n",
       "      <th>9999</th>\n",
       "      <td>US Dept. of Justice IP address blocked after '...</td>\n",
       "      <td>0</td>\n",
       "    </tr>\n",
       "  </tbody>\n",
       "</table>\n",
       "<p>10000 rows × 2 columns</p>\n",
       "</div>"
      ],
      "text/plain": [
       "                                                      0  1\n",
       "0            Egypt's top envoy in Iraq confirmed killed  0\n",
       "1     Carter: Race relations in Palestine are worse ...  0\n",
       "2     After Years Of Dutiful Service, The Shiba Who ...  1\n",
       "3     In Books on Two Powerbrokers, Hints of the Future  0\n",
       "4     These Horrifyingly Satisfying Photos Of \"Baby ...  1\n",
       "...                                                 ... ..\n",
       "9995                         What Is Your Weirdest Fear  1\n",
       "9996           Felipe Massa wins 2008 French Grand Prix  0\n",
       "9997              Bottled water concerns health experts  0\n",
       "9998  Death of Nancy Benoit rumour posted on Wikiped...  0\n",
       "9999  US Dept. of Justice IP address blocked after '...  0\n",
       "\n",
       "[10000 rows x 2 columns]"
      ]
     },
     "execution_count": 19,
     "metadata": {},
     "output_type": "execute_result"
    }
   ],
   "source": [
    "df_clickbait"
   ]
  },
  {
   "cell_type": "code",
   "execution_count": 21,
   "metadata": {},
   "outputs": [
    {
     "data": {
      "text/html": [
       "<div>\n",
       "<style scoped>\n",
       "    .dataframe tbody tr th:only-of-type {\n",
       "        vertical-align: middle;\n",
       "    }\n",
       "\n",
       "    .dataframe tbody tr th {\n",
       "        vertical-align: top;\n",
       "    }\n",
       "\n",
       "    .dataframe thead th {\n",
       "        text-align: right;\n",
       "    }\n",
       "</style>\n",
       "<table border=\"1\" class=\"dataframe\">\n",
       "  <thead>\n",
       "    <tr style=\"text-align: right;\">\n",
       "      <th></th>\n",
       "      <th>Headline</th>\n",
       "      <th>Category</th>\n",
       "    </tr>\n",
       "  </thead>\n",
       "  <tbody>\n",
       "    <tr>\n",
       "      <th>0</th>\n",
       "      <td>Egypt's top envoy in Iraq confirmed killed</td>\n",
       "      <td>0</td>\n",
       "    </tr>\n",
       "    <tr>\n",
       "      <th>1</th>\n",
       "      <td>Carter: Race relations in Palestine are worse ...</td>\n",
       "      <td>0</td>\n",
       "    </tr>\n",
       "    <tr>\n",
       "      <th>2</th>\n",
       "      <td>After Years Of Dutiful Service, The Shiba Who ...</td>\n",
       "      <td>1</td>\n",
       "    </tr>\n",
       "    <tr>\n",
       "      <th>3</th>\n",
       "      <td>In Books on Two Powerbrokers, Hints of the Future</td>\n",
       "      <td>0</td>\n",
       "    </tr>\n",
       "    <tr>\n",
       "      <th>4</th>\n",
       "      <td>These Horrifyingly Satisfying Photos Of \"Baby ...</td>\n",
       "      <td>1</td>\n",
       "    </tr>\n",
       "  </tbody>\n",
       "</table>\n",
       "</div>"
      ],
      "text/plain": [
       "                                            Headline  Category\n",
       "0         Egypt's top envoy in Iraq confirmed killed         0\n",
       "1  Carter: Race relations in Palestine are worse ...         0\n",
       "2  After Years Of Dutiful Service, The Shiba Who ...         1\n",
       "3  In Books on Two Powerbrokers, Hints of the Future         0\n",
       "4  These Horrifyingly Satisfying Photos Of \"Baby ...         1"
      ]
     },
     "execution_count": 21,
     "metadata": {},
     "output_type": "execute_result"
    }
   ],
   "source": [
    "df_clickbait.columns = [\"Headline\", \"Category\"]\n",
    "df_clickbait.head()"
   ]
  },
  {
   "cell_type": "code",
   "execution_count": 23,
   "metadata": {},
   "outputs": [],
   "source": [
    "from sklearn.feature_extraction.text import TfidfVectorizer\n",
    "from sklearn.svm import LinearSVC\n",
    "from sklearn.metrics import accuracy_score\n",
    "\n",
    "headlines = df_clickbait[\"Headline\"]\n",
    "labels = df_clickbait[\"Category\"]"
   ]
  },
  {
   "cell_type": "code",
   "execution_count": 24,
   "metadata": {},
   "outputs": [
    {
     "data": {
      "text/plain": [
       "0           Egypt's top envoy in Iraq confirmed killed\n",
       "1    Carter: Race relations in Palestine are worse ...\n",
       "2    After Years Of Dutiful Service, The Shiba Who ...\n",
       "3    In Books on Two Powerbrokers, Hints of the Future\n",
       "4    These Horrifyingly Satisfying Photos Of \"Baby ...\n",
       "Name: Headline, dtype: object"
      ]
     },
     "execution_count": 24,
     "metadata": {},
     "output_type": "execute_result"
    }
   ],
   "source": [
    "headlines.head()"
   ]
  },
  {
   "cell_type": "code",
   "execution_count": 25,
   "metadata": {},
   "outputs": [
    {
     "data": {
      "text/plain": [
       "0    0\n",
       "1    0\n",
       "2    1\n",
       "3    0\n",
       "4    1\n",
       "Name: Category, dtype: int64"
      ]
     },
     "execution_count": 25,
     "metadata": {},
     "output_type": "execute_result"
    }
   ],
   "source": [
    "labels.head()"
   ]
  },
  {
   "cell_type": "code",
   "execution_count": 26,
   "metadata": {},
   "outputs": [],
   "source": [
    "# Break dataset into test and train sets\n",
    "train_headlines = headlines[:8000]\n",
    "test_headlines = headlines[8000:]\n",
    "\n",
    "train_labels = labels[:8000]\n",
    "test_labels = labels[8000:]"
   ]
  },
  {
   "cell_type": "markdown",
   "metadata": {},
   "source": [
    "Remember one-hot encoding, otherwise know as [get_dummies](https://pandas.pydata.org/pandas-docs/stable/reference/api/pandas.get_dummies.html) in pandas?  We were able to unpack a column, full of ungainly strings, into new columns, with 1s and 0s for values.\n",
    "\n",
    "That's close to what we do when \"vectorizing\" a \"bag of words\".  The specific algorithm we will be using, already in the can for us in sklearn, throws away what we might call \"stop words\" (used too frequently) and also words that occur too infrequently.\n",
    "\n",
    "We might do some data cleaning of front, before we vectorize.  Remove dates?  Excise serial numbers?  The end goal is to distill a document space to a vocabulary and frequency count for each word.  The ML engine (which one we pick) should be able to munch on this kind of numeric data.\n",
    "\n",
    "[TF-IDF in Python with Scikit Learn](https://youtu.be/i74DVqMsRWY) -- From Python Tutorials for the Digital Humanities\n",
    "\n",
    "[Topic Modeling](http://topic-modeling.pythonhumanities.com/01_01_introduction_to_topic_modeling.html)"
   ]
  },
  {
   "cell_type": "markdown",
   "metadata": {},
   "source": [
    "In addition to initializing a vectorizer, which is used in a next cell, we have to make the important decision regarding which ML engine to use.  In this case:  LinearSVC.\n",
    "\n",
    "LinearSVC is a subtype of a Support Vector Machine (SVM).  When separating data into clusters, you want to find a \"cut\" or \"slice\" through the data that maximizes its distance from the closest element in any cluster.  Optimizing means making the cut ever more effective at delineating two groups.\n",
    "\n",
    "In this case, we are attempting to separate the data using known cluster scores (1 or 0) for the training data."
   ]
  },
  {
   "cell_type": "code",
   "execution_count": 44,
   "metadata": {},
   "outputs": [],
   "source": [
    "vectorizer = TfidfVectorizer()\n",
    "svm = LinearSVC()"
   ]
  },
  {
   "cell_type": "code",
   "execution_count": 45,
   "metadata": {},
   "outputs": [],
   "source": [
    "# Transform our text data into numerical vectors\n",
    "train_vectors = vectorizer.fit_transform(train_headlines)\n",
    "test_vectors = vectorizer.transform(test_headlines)"
   ]
  },
  {
   "cell_type": "code",
   "execution_count": 46,
   "metadata": {},
   "outputs": [
    {
     "data": {
      "text/plain": [
       "<6x11773 sparse matrix of type '<class 'numpy.float64'>'\n",
       "\twith 56 stored elements in Compressed Sparse Row format>"
      ]
     },
     "execution_count": 46,
     "metadata": {},
     "output_type": "execute_result"
    }
   ],
   "source": [
    "train_vectors[:6]"
   ]
  },
  {
   "cell_type": "code",
   "execution_count": 47,
   "metadata": {},
   "outputs": [
    {
     "data": {
      "text/plain": [
       "<1x11773 sparse matrix of type '<class 'numpy.float64'>'\n",
       "\twith 9 stored elements in Compressed Sparse Row format>"
      ]
     },
     "execution_count": 47,
     "metadata": {},
     "output_type": "execute_result"
    }
   ],
   "source": [
    "train_vectors[1]"
   ]
  },
  {
   "cell_type": "code",
   "execution_count": 48,
   "metadata": {},
   "outputs": [
    {
     "data": {
      "text/plain": [
       "0.961"
      ]
     },
     "execution_count": 48,
     "metadata": {},
     "output_type": "execute_result"
    }
   ],
   "source": [
    "# Train the classifier and predict on test set\n",
    "svm.fit(train_vectors, train_labels)\n",
    "\n",
    "predictions = svm.predict(test_vectors)\n",
    "\n",
    "accuracy_score(test_labels, predictions)"
   ]
  },
  {
   "cell_type": "code",
   "execution_count": 49,
   "metadata": {},
   "outputs": [
    {
     "data": {
      "text/plain": [
       "array([1, 0])"
      ]
     },
     "execution_count": 49,
     "metadata": {},
     "output_type": "execute_result"
    }
   ],
   "source": [
    "new_headlines = [\"10 Cities That Every Hipster Will Be Moving To Soon\", \n",
    "                 'Vice President Mike Pence Leaves NFL Game Saying Players Showed \"Disrespect\" Of Anthem, Flag']\n",
    "new_vectors = vectorizer.transform(new_headlines)\n",
    "new_predictions = svm.predict(new_vectors)\n",
    "\n",
    "new_predictions"
   ]
  },
  {
   "cell_type": "markdown",
   "metadata": {
    "id": "eppisf6o20Ip"
   },
   "source": [
    "### <p style=\"background-color:#9d4f8c; font-family:newtimeroman; color:#FFF9ED; font-size:150%; text-align:center; border-radius:10px 10px;\">Review:  Linear Regression</p>\n",
    "\n",
    "We should probably do one with `tips` first, as that's the one we've squeezed the most out of in DV0-DV5 (Data Visualization with Python)."
   ]
  },
  {
   "cell_type": "code",
   "execution_count": 51,
   "metadata": {
    "colab": {
     "base_uri": "https://localhost:8080/",
     "height": 203
    },
    "id": "BtAf43Va20Iq",
    "outputId": "5e76994f-847a-4efd-c3db-8c2bb994a7d5"
   },
   "outputs": [
    {
     "data": {
      "text/html": [
       "<div>\n",
       "<style scoped>\n",
       "    .dataframe tbody tr th:only-of-type {\n",
       "        vertical-align: middle;\n",
       "    }\n",
       "\n",
       "    .dataframe tbody tr th {\n",
       "        vertical-align: top;\n",
       "    }\n",
       "\n",
       "    .dataframe thead th {\n",
       "        text-align: right;\n",
       "    }\n",
       "</style>\n",
       "<table border=\"1\" class=\"dataframe\">\n",
       "  <thead>\n",
       "    <tr style=\"text-align: right;\">\n",
       "      <th></th>\n",
       "      <th>total_bill</th>\n",
       "      <th>tip</th>\n",
       "      <th>sex</th>\n",
       "      <th>smoker</th>\n",
       "      <th>day</th>\n",
       "      <th>time</th>\n",
       "      <th>size</th>\n",
       "    </tr>\n",
       "  </thead>\n",
       "  <tbody>\n",
       "    <tr>\n",
       "      <th>0</th>\n",
       "      <td>16.99</td>\n",
       "      <td>1.01</td>\n",
       "      <td>Female</td>\n",
       "      <td>No</td>\n",
       "      <td>Sun</td>\n",
       "      <td>Dinner</td>\n",
       "      <td>2</td>\n",
       "    </tr>\n",
       "    <tr>\n",
       "      <th>1</th>\n",
       "      <td>10.34</td>\n",
       "      <td>1.66</td>\n",
       "      <td>Male</td>\n",
       "      <td>No</td>\n",
       "      <td>Sun</td>\n",
       "      <td>Dinner</td>\n",
       "      <td>3</td>\n",
       "    </tr>\n",
       "    <tr>\n",
       "      <th>2</th>\n",
       "      <td>21.01</td>\n",
       "      <td>3.50</td>\n",
       "      <td>Male</td>\n",
       "      <td>No</td>\n",
       "      <td>Sun</td>\n",
       "      <td>Dinner</td>\n",
       "      <td>3</td>\n",
       "    </tr>\n",
       "    <tr>\n",
       "      <th>3</th>\n",
       "      <td>23.68</td>\n",
       "      <td>3.31</td>\n",
       "      <td>Male</td>\n",
       "      <td>No</td>\n",
       "      <td>Sun</td>\n",
       "      <td>Dinner</td>\n",
       "      <td>2</td>\n",
       "    </tr>\n",
       "    <tr>\n",
       "      <th>4</th>\n",
       "      <td>24.59</td>\n",
       "      <td>3.61</td>\n",
       "      <td>Female</td>\n",
       "      <td>No</td>\n",
       "      <td>Sun</td>\n",
       "      <td>Dinner</td>\n",
       "      <td>4</td>\n",
       "    </tr>\n",
       "  </tbody>\n",
       "</table>\n",
       "</div>"
      ],
      "text/plain": [
       "   total_bill   tip     sex smoker  day    time  size\n",
       "0       16.99  1.01  Female     No  Sun  Dinner     2\n",
       "1       10.34  1.66    Male     No  Sun  Dinner     3\n",
       "2       21.01  3.50    Male     No  Sun  Dinner     3\n",
       "3       23.68  3.31    Male     No  Sun  Dinner     2\n",
       "4       24.59  3.61  Female     No  Sun  Dinner     4"
      ]
     },
     "execution_count": 51,
     "metadata": {},
     "output_type": "execute_result"
    }
   ],
   "source": [
    "import seaborn as sns\n",
    "tips = sns.load_dataset(\"tips\")\n",
    "tips.head()"
   ]
  },
  {
   "cell_type": "code",
   "execution_count": 54,
   "metadata": {},
   "outputs": [
    {
     "data": {
      "image/png": "[encoded data removed]",
      "text/plain": [
       "<Figure size 432x432 with 3 Axes>"
      ]
     },
     "metadata": {
      "needs_background": "light"
     },
     "output_type": "display_data"
    }
   ],
   "source": [
    "sns.jointplot(kind=\"reg\", data=tips, x=\"total_bill\", y=\"tip\");"
   ]
  },
  {
   "cell_type": "code",
   "execution_count": 55,
   "metadata": {},
   "outputs": [
    {
     "name": "stdout",
     "output_type": "stream",
     "text": [
      "ls: roller*.*: No such file or directory\n"
     ]
    }
   ],
   "source": [
    "! ls roller*.*"
   ]
  },
  {
   "cell_type": "markdown",
   "metadata": {
    "id": "VjheHYF220Iq"
   },
   "source": [
    "### <p style=\"background-color:#9d4f8c; font-family:newtimeroman; color:#FFF9ED; font-size:150%; text-align:center; border-radius:10px 10px;\">TASK 02 - CHECKING MISSING VALUES & IF THERE ARE SOME DUPLICATE ROWS OR NOT</p>\n",
    "\n",
    "<a id=\"3\"></a>\n",
    "<a href=\"#toc\" class=\"btn btn-primary btn-sm\" role=\"button\" aria-pressed=\"true\" \n",
    "style=\"color:blue; background-color:#dfa8e4\" data-toggle=\"popover\">Content</a>"
   ]
  },
  {
   "cell_type": "code",
   "execution_count": null,
   "metadata": {
    "colab": {
     "base_uri": "https://localhost:8080/"
    },
    "id": "Su1S3Ejc20Ir",
    "outputId": "a688b179-ca44-4403-e355-c6073ea06197"
   },
   "outputs": [],
   "source": [
    "df.duplicated().value_counts()"
   ]
  },
  {
   "cell_type": "code",
   "execution_count": null,
   "metadata": {
    "colab": {
     "base_uri": "https://localhost:8080/"
    },
    "id": "taPyMUnj20Ir",
    "outputId": "ec58ba4b-884c-4537-f52c-e1743163fb55"
   },
   "outputs": [],
   "source": [
    "df.isnull().sum()"
   ]
  },
  {
   "cell_type": "markdown",
   "metadata": {
    "id": "yMowtQqH20Ir"
   },
   "source": [
    "### <p style=\"background-color:#9d4f8c; font-family:newtimeroman; color:#FFF9ED; font-size:150%; text-align:center; border-radius:10px 10px;\">TASK 03 - PLOTTING THE DISTRIBUTION OF VARIOUS DISCRETE FEATURES PER  SEASON-HOLIDAY-WEEKEND-WEATHERCODE</p>\n",
    "\n",
    "<a id=\"4\"></a>\n",
    "<a href=\"#toc\" class=\"btn btn-primary btn-sm\" role=\"button\" aria-pressed=\"true\" \n",
    "style=\"color:blue; background-color:#dfa8e4\" data-toggle=\"popover\">Content</a>"
   ]
  },
  {
   "cell_type": "markdown",
   "metadata": {},
   "source": [
    "season : season (0:spring, 1:summer, 2:fall, 3:winter)"
   ]
  },
  {
   "cell_type": "code",
   "execution_count": null,
   "metadata": {},
   "outputs": [],
   "source": [
    "df['season'].value_counts()"
   ]
  },
  {
   "cell_type": "code",
   "execution_count": null,
   "metadata": {},
   "outputs": [],
   "source": [
    "sort_by_day = df['season'].value_counts().sort_index()\n",
    "sort_by_day"
   ]
  },
  {
   "cell_type": "code",
   "execution_count": null,
   "metadata": {},
   "outputs": [],
   "source": [
    "sort_by_day.index"
   ]
  },
  {
   "cell_type": "code",
   "execution_count": null,
   "metadata": {},
   "outputs": [],
   "source": [
    "df['season'].value_counts().index"
   ]
  },
  {
   "cell_type": "code",
   "execution_count": null,
   "metadata": {},
   "outputs": [],
   "source": [
    "df['season'].value_counts().values"
   ]
  },
  {
   "cell_type": "code",
   "execution_count": null,
   "metadata": {},
   "outputs": [],
   "source": [
    "values_by_day = df['season'].value_counts().sort_index()\n",
    "values_by_day"
   ]
  },
  {
   "cell_type": "code",
   "execution_count": null,
   "metadata": {},
   "outputs": [],
   "source": [
    "plt.bar(sort_by_day.index, values_by_day) \n",
    "plt.xticks([0,1,2,3], [\"Spring\", \"Summer\", \"Fall\", \"Winter\"], rotation=0);"
   ]
  },
  {
   "cell_type": "code",
   "execution_count": null,
   "metadata": {
    "colab": {
     "base_uri": "https://localhost:8080/",
     "height": 279
    },
    "id": "vw4INTSG20Is",
    "outputId": "0e14c1aa-6ab4-419f-c5dc-45dba42c36aa"
   },
   "outputs": [],
   "source": [
    "# fig, ax = plt.subplots()\n",
    "\n",
    "# season\n",
    "# sns.countplot(x='season', data=df);\n",
    "# or\n",
    "sns.factorplot(x='season', data=df, kind='count', size=5, aspect=1.5)\n",
    "\n",
    "# you can add\n",
    "ax = plt.gca()\n",
    "for p in ax.patches:\n",
    "    ax.annotate((p.get_height()), \n",
    "                (p.get_x()+0.3, p.get_height()+20))\n",
    "plt.xticks([0,1,2,3], [\"Spring\", \"Summer\", \"Fall\", \"Winter\"], rotation=0);"
   ]
  },
  {
   "cell_type": "markdown",
   "metadata": {},
   "source": [
    "[For a Better Understanding of What ``for loop`` does ==> Visit Here](https://medium.com/@dey.mallika/transform-your-graphs-with-seaborn-ea4fa8e606a6)"
   ]
  },
  {
   "cell_type": "code",
   "execution_count": null,
   "metadata": {},
   "outputs": [],
   "source": [
    "import matplotlib\n",
    "print('matplotlib: {}'.format(matplotlib.__version__))"
   ]
  },
  {
   "cell_type": "code",
   "execution_count": null,
   "metadata": {},
   "outputs": [],
   "source": [
    "# As of matplotlib v3.4.2, you can use matplotlib.pyplot.bar_label\n",
    "\n",
    "fig, ax = plt.subplots()\n",
    "\n",
    "# is_holiday\n",
    "chart = sns.countplot(x='is_holiday', data=df);\n",
    "# or\n",
    "# sns.factorplot(x='is_holiday',data=df, kind='count',size=5,aspect=1);\n",
    "\n",
    "chart.bar_label(chart.containers[0], fmt='%d');"
   ]
  },
  {
   "cell_type": "code",
   "execution_count": null,
   "metadata": {
    "colab": {
     "base_uri": "https://localhost:8080/",
     "height": 280
    },
    "id": "DHPG8s5920Is",
    "outputId": "57b32e35-c59b-407a-c49e-9f2381678887"
   },
   "outputs": [],
   "source": [
    "fig, ax = plt.subplots()\n",
    "\n",
    "# is_holiday\n",
    "sns.countplot(x='is_holiday', data=df);\n",
    "# or\n",
    "# sns.factorplot(x='is_holiday',data=df, kind='count',size=5,aspect=1);\n",
    "\n",
    "# you can add\n",
    "# ax =sns.countplot(x='season',data=df);\n",
    "for p in ax.patches:\n",
    "    ax.annotate((p.get_height()), (p.get_x()+0.35, p.get_height()+30));"
   ]
  },
  {
   "cell_type": "code",
   "execution_count": null,
   "metadata": {
    "colab": {
     "base_uri": "https://localhost:8080/",
     "height": 280
    },
    "id": "MbopYVNN20Is",
    "outputId": "68d98a06-2a00-49d5-f040-60a456279b03"
   },
   "outputs": [],
   "source": [
    "fig, ax = plt.subplots()\n",
    "\n",
    "# is_weekend\n",
    "sns.countplot(x='is_weekend',data=df);\n",
    "# or\n",
    "# sns.factorplot(x='is_weekend',data=df,kind='count',size=5,aspect=1);\n",
    "\n",
    "for p in ax.patches:\n",
    "    ax.annotate((p.get_height()), (p.get_x()+0.35, p.get_height()+30));"
   ]
  },
  {
   "cell_type": "code",
   "execution_count": null,
   "metadata": {
    "colab": {
     "base_uri": "https://localhost:8080/",
     "height": 280
    },
    "id": "y6x24xxV20It",
    "outputId": "1d0e6816-2d90-48f4-cfdb-bba75af1bd13"
   },
   "outputs": [],
   "source": [
    "fig, ax = plt.subplots()\n",
    "\n",
    "# weather_code\n",
    "sns.countplot(x='weather_code',data=df);\n",
    "# or\n",
    "# sns.factorplot(x='weather_code',data=df,kind='count',size=5,aspect=1);\n",
    "\n",
    "for p in ax.patches:\n",
    "    ax.annotate((p.get_height()), (p.get_x()+0.20, p.get_height()+30));"
   ]
  },
  {
   "cell_type": "markdown",
   "metadata": {
    "id": "0ckMDGUu20Iu"
   },
   "source": [
    "### <p style=\"background-color:#9d4f8c; font-family:newtimeroman; color:#FFF9ED; font-size:150%; text-align:center; border-radius:10px 10px;\">TASK 04 - LOOKING AT THE DATA TYPES OF EACH VARIABLE, TRANSFORM ``TIMESTAMP`` IN TYPE & SET IT AS INDEX</p>\n",
    "\n",
    "<a id=\"5\"></a>\n",
    "<a href=\"#toc\" class=\"btn btn-primary btn-sm\" role=\"button\" aria-pressed=\"true\" \n",
    "style=\"color:blue; background-color:#dfa8e4\" data-toggle=\"popover\">Content</a>"
   ]
  },
  {
   "cell_type": "code",
   "execution_count": null,
   "metadata": {},
   "outputs": [],
   "source": [
    "df.info()"
   ]
  },
  {
   "cell_type": "code",
   "execution_count": null,
   "metadata": {},
   "outputs": [],
   "source": [
    "type(df['timestamp'][0])"
   ]
  },
  {
   "cell_type": "code",
   "execution_count": null,
   "metadata": {
    "id": "UAVtBv_420Iu"
   },
   "outputs": [],
   "source": [
    "df.timestamp = pd.to_datetime(df['timestamp'])"
   ]
  },
  {
   "cell_type": "code",
   "execution_count": null,
   "metadata": {},
   "outputs": [],
   "source": [
    "df.info()"
   ]
  },
  {
   "cell_type": "code",
   "execution_count": null,
   "metadata": {},
   "outputs": [],
   "source": [
    "df"
   ]
  },
  {
   "cell_type": "code",
   "execution_count": null,
   "metadata": {
    "colab": {
     "base_uri": "https://localhost:8080/",
     "height": 234
    },
    "id": "xnBa7KKQ20Iu",
    "outputId": "588ee573-62bf-44c7-cd55-0c71692dc78b"
   },
   "outputs": [],
   "source": [
    "df.set_index('timestamp', inplace=True)"
   ]
  },
  {
   "cell_type": "code",
   "execution_count": null,
   "metadata": {},
   "outputs": [],
   "source": [
    "df"
   ]
  },
  {
   "cell_type": "markdown",
   "metadata": {
    "id": "8VsK9Mxt20Iu"
   },
   "source": [
    "- We have a 2-year timestamp, so let us do Feature Engineering by using `year, month, day_of_month, day_of_week, hour`"
   ]
  },
  {
   "cell_type": "markdown",
   "metadata": {
    "id": "ngiq2v7S20Iu"
   },
   "source": [
    "### <p style=\"background-color:#9d4f8c; font-family:newtimeroman; color:#FFF9ED; font-size:150%; text-align:center; border-radius:10px 10px;\">TASK 05 - MAKING FEATURE ENGINEERING. EXTRACTING NEW COLUMNS (DAY OF WEEK, DAY OF MONTH, HOUR, MONTH, SEASON, YEAR ETC.</p>\n",
    "\n",
    "<a id=\"6\"></a>\n",
    "<a href=\"#toc\" class=\"btn btn-primary btn-sm\" role=\"button\" aria-pressed=\"true\" \n",
    "style=\"color:blue; background-color:#dfa8e4\" data-toggle=\"popover\">Content</a>"
   ]
  },
  {
   "cell_type": "code",
   "execution_count": null,
   "metadata": {},
   "outputs": [],
   "source": [
    "df.index"
   ]
  },
  {
   "cell_type": "code",
   "execution_count": null,
   "metadata": {},
   "outputs": [],
   "source": [
    "df.index.year"
   ]
  },
  {
   "cell_type": "code",
   "execution_count": null,
   "metadata": {
    "id": "kuzcXJ0i20Iv"
   },
   "outputs": [],
   "source": [
    "f = lambda x: x.strftime('%Y-%m') # strftime works with array\n",
    "\n",
    "df['year_month'] = f(df.index)\n",
    "df['year'] = df.index.year  # only apply to array\n",
    "df['month'] = df.index.month\n",
    "df['day_of_month'] = df.index.day\n",
    "df['day_of_week'] = df.index.dayofweek\n",
    "df['hour'] = df.index.hour"
   ]
  },
  {
   "cell_type": "markdown",
   "metadata": {
    "id": "NBWa8oXcxN-E"
   },
   "source": [
    "alternative solution\n",
    "```\n",
    "import datetime as dt\n",
    "df2  =pd.read_csv('store_sharing.csv')\n",
    "df2['timestamp'] =  pd.to_datetime(df2['timestamp'], infer_datetime_format=True)\n",
    "\n",
    "df2[\"year\"] = df2['timestamp'].dt.year\n",
    "df2[\"month\"] = df2['timestamp'].dt.month\n",
    "df2[\"day\"] = df2['timestamp'].dt.day\n",
    "df2[\"day_of_week\"] = df2['timestamp'].dt.dayofweek\n",
    "df2[\"hour\"] = df2['timestamp'].dt.hour\n",
    "\n",
    "df2[\"year-month\"] = df2['timestamp'].apply(lambda x: x.strftime('%Y-%m'))\n",
    "\n",
    "df2.set_index('timestamp',inplace=True)\n",
    "df2\n",
    "```\n",
    "\n"
   ]
  },
  {
   "cell_type": "code",
   "execution_count": null,
   "metadata": {
    "colab": {
     "base_uri": "https://localhost:8080/",
     "height": 422
    },
    "id": "RYw9Klg_20Iv",
    "outputId": "7fd6f17c-d7e5-4865-a630-c2279c3cfe52"
   },
   "outputs": [],
   "source": [
    "df.head()"
   ]
  },
  {
   "cell_type": "markdown",
   "metadata": {
    "id": "plpRRF8920Iv"
   },
   "source": [
    "### <p style=\"background-color:#9d4f8c; font-family:newtimeroman; color:#FFF9ED; font-size:150%; text-align:center; border-radius:10px 10px;\">TASK 06 - VISUALIZING THE CORRELATION WITH A HEATMAP</p>\n",
    "\n",
    "<a id=\"7\"></a>\n",
    "<a href=\"#toc\" class=\"btn btn-primary btn-sm\" role=\"button\" aria-pressed=\"true\" \n",
    "style=\"color:blue; background-color:#dfa8e4\" data-toggle=\"popover\">Content</a>"
   ]
  },
  {
   "cell_type": "code",
   "execution_count": null,
   "metadata": {
    "colab": {
     "base_uri": "https://localhost:8080/",
     "height": 656
    },
    "id": "T_KFvQBA20Iw",
    "outputId": "a814118f-c26b-4ec1-ad70-1269e3184c9d"
   },
   "outputs": [],
   "source": [
    "# for all variables\n",
    "\n",
    "plt.figure(figsize=(15, 10))\n",
    "\n",
    "# sns.heatmap(df.corr(), annot=True, cmap=\"coolwarm\");\n",
    "\n",
    "# # BONUS If you want to show half of the Meatmap Matrix\n",
    "# # Getting the Upper Triangle of the co-relation matrix\n",
    "matrix = np.triu(df.corr())\n",
    "\n",
    "# # using the upper triangle matrix as mask \n",
    "sns.heatmap(df.corr(), annot=True, cmap=\"coolwarm\", mask=matrix);"
   ]
  },
  {
   "cell_type": "code",
   "execution_count": null,
   "metadata": {
    "colab": {
     "base_uri": "https://localhost:8080/",
     "height": 480
    },
    "id": "EV8nX3eZ7WDw",
    "outputId": "008c51f2-2ac1-4dc8-96c6-f8954d059675"
   },
   "outputs": [],
   "source": [
    "df_corr_cnt = df.corr()[['cnt']].sort_values(by='cnt', ascending=False)\n",
    "df_corr_cnt"
   ]
  },
  {
   "cell_type": "code",
   "execution_count": null,
   "metadata": {
    "colab": {
     "base_uri": "https://localhost:8080/",
     "height": 428
    },
    "id": "8t4Iv-Q520Iw",
    "outputId": "6dae4896-9fc7-46a7-8c3e-99aeb019d15f"
   },
   "outputs": [],
   "source": [
    "# for the target variable\n",
    "\n",
    "plt.figure(figsize=(2, 7))\n",
    "\n",
    "sns.heatmap(df_corr_cnt, vmin=-1, vmax=1, annot=True, cmap='BrBG');"
   ]
  },
  {
   "cell_type": "markdown",
   "metadata": {},
   "source": [
    "**The possible value of the palette/cmap are:**\n",
    "\n",
    "‘Accent’, ‘Accent_r’, ‘Blues’, ‘Blues_r’, ‘BrBG’, ‘BrBG_r’, ‘BuGn’, ‘BuGn_r’, ‘BuPu’, ‘BuPu_r’, ‘CMRmap’, ‘CMRmap_r’, ‘Dark2’, ‘Dark2_r’, ‘GnBu’, ‘GnBu_r’,  ‘Greens’, ‘Greens_r’, ‘Greys’, ‘Greys_r’, ‘OrRd’, ‘OrRd_r’, ‘Oranges’, ‘Oranges_r’,  ‘PRGn’, ‘PRGn_r’, ‘Paired’, ‘Paired_r’, ‘Pastel1’, ‘Pastel1_r’, ‘Pastel2’,  ‘Pastel2_r’, ‘PiYG’, ‘PiYG_r’, ‘PuBu’, ‘PuBuGn’, ‘PuBuGn_r’, ‘PuBu_r’, ‘PuOr’, ‘PuOr_r’, ‘PuRd’, ‘PuRd_r’, ‘Purples’, ‘Purples_r’, ‘RdBu’, ‘RdBu_r’, ‘RdGy’, ‘RdGy_r’, ‘RdPu’, ‘RdPu_r’, ‘RdYlBu’, ‘RdYlBu_r’, ‘RdYlGn’, ‘RdYlGn_r’, ‘Reds’, ‘Reds_r’, ‘Set1’, ‘Set1_r’, ‘Set2’, ‘Set2_r’, ‘Set3’, ‘Set3_r’, ‘Spectral’, ‘Spectral_r’, ‘Wistia’, ‘Wistia_r’, ‘YlGn’, ‘YlGnBu’, ‘YlGnBu_r’, ‘YlGn_r’, ‘YlOrBr’, ‘YlOrBr_r’, ‘YlOrRd’, ‘YlOrRd_r’, ‘afmhot’, ‘afmhot_r’, ‘autumn’, ‘autumn_r’, ‘binary’, ‘binary_r’,  ‘bone’, ‘bone_r’, ‘brg’, ‘brg_r’, ‘bwr’, ‘bwr_r’, ‘cividis’, ‘cividis_r’, ‘cool’, ‘cool_r’,  ‘coolwarm’, ‘coolwarm_r’, ‘copper’, ‘copper_r’, ‘cubehelix’, ‘cubehelix_r’, ‘flag’, ‘flag_r’,  ‘gist_earth’, ‘gist_earth_r’, ‘gist_gray’, ‘gist_gray_r’, ‘gist_heat’, ‘gist_heat_r’, ‘gist_ncar’,  ‘gist_ncar_r’, ‘gist_rainbow’, ‘gist_rainbow_r’, ‘gist_stern’, ‘gist_stern_r’, ‘gist_yarg’,  ‘gist_yarg_r’, ‘gnuplot’, ‘gnuplot2’, ‘gnuplot2_r’, ‘gnuplot_r’, ‘gray’, ‘gray_r’, ‘hot’, ‘hot_r’,  ‘hsv’, ‘hsv_r’, ‘icefire’, ‘icefire_r’, ‘inferno’, ‘inferno_r’, ‘jet’, ‘jet_r’, ‘magma’, ‘magma_r’,  ‘mako’, ‘mako_r’, ‘nipy_spectral’, ‘nipy_spectral_r’, ‘ocean’, ‘ocean_r’, ‘pink’, ‘pink_r’,  ‘plasma’, ‘plasma_r’, ‘prism’, ‘prism_r’, ‘rainbow’, ‘rainbow_r’, ‘rocket’, ‘rocket_r’,  ‘seismic’, ‘seismic_r’, ‘spring’, ‘spring_r’, ‘summer’, ‘summer_r’, ‘tab10’, ‘tab10_r’,’tab20′, ‘tab20_r’, ‘tab20b’, ‘tab20b_r’, ‘tab20c’, ‘tab20c_r’, ‘terrain’, ‘terrain_r’, ‘turbo’,  ‘turbo_r’, ‘twilight’, ‘twilight_r’, ‘twilight_shifted’, ‘twilight_shifted_r’, ‘viridis’,  ‘viridis_r’, ‘vlag’, ‘vlag_r’, ‘winter’, ‘winter_r’\n",
    "\n",
    "[Source](https://www.geeksforgeeks.org/seaborn-color-palette/)"
   ]
  },
  {
   "cell_type": "markdown",
   "metadata": {
    "id": "zfgbjPiW20Iw"
   },
   "source": [
    "### <p style=\"background-color:#9d4f8c; font-family:newtimeroman; color:#FFF9ED; font-size:150%; text-align:center; border-radius:10px 10px;\">TASK 07 - VISUALIZING THE CORRELATION OF THE TARGET VARIABLE & THE OTHER FEATURES WITH BARPLOT</p>\n",
    "\n",
    "<a id=\"8\"></a>\n",
    "<a href=\"#toc\" class=\"btn btn-primary btn-sm\" role=\"button\" aria-pressed=\"true\" \n",
    "style=\"color:blue; background-color:#dfa8e4\" data-toggle=\"popover\">Content</a>"
   ]
  },
  {
   "cell_type": "code",
   "execution_count": null,
   "metadata": {
    "colab": {
     "base_uri": "https://localhost:8080/",
     "height": 374
    },
    "id": "14fNdyUL20Ix",
    "outputId": "ce0f49c1-3267-4f97-ce3a-dcbdbf14a641"
   },
   "outputs": [],
   "source": [
    "#with pandas\n",
    "\n",
    "plt.figure(figsize=(10, 6))\n",
    "\n",
    "df.corr()[\"cnt\"].sort_values().plot.barh();"
   ]
  },
  {
   "cell_type": "markdown",
   "metadata": {
    "id": "bNqu1ksG96wD"
   },
   "source": [
    "Alternative Sol\n",
    "\n",
    "```\n",
    "x = df.corr()[\"cnt\"].sort_values(ascending=False).index\n",
    "y = df.corr()[\"cnt\"].sort_values(ascending=False).values\n",
    "sns.barplot(y,x, orient=\"h\", color=\"b\" )\n",
    "```\n",
    "\n"
   ]
  },
  {
   "cell_type": "markdown",
   "metadata": {
    "id": "gAALtK4OAzaN"
   },
   "source": [
    "### <p style=\"background-color:#9d4f8c; font-family:newtimeroman; color:#FFF9ED; font-size:150%; text-align:center; border-radius:10px 10px;\">TASK 08 - PLOTTING BIKE SHARES OVER TIME BY USING LINEPLOT</p>\n",
    "\n",
    "<a id=\"9\"></a>\n",
    "<a href=\"#toc\" class=\"btn btn-primary btn-sm\" role=\"button\" aria-pressed=\"true\" \n",
    "style=\"color:blue; background-color:#dfa8e4\" data-toggle=\"popover\">Content</a>"
   ]
  },
  {
   "cell_type": "code",
   "execution_count": null,
   "metadata": {
    "colab": {
     "base_uri": "https://localhost:8080/",
     "height": 327
    },
    "id": "53T6Nuor20Iy",
    "outputId": "c4866ed6-d818-42eb-f8a3-efbae1e6c6f0"
   },
   "outputs": [],
   "source": [
    "plt.figure(figsize=(15, 5))\n",
    "\n",
    "sns.lineplot(x=df.index, y='cnt', data=df)\n",
    "plt.show()"
   ]
  },
  {
   "cell_type": "markdown",
   "metadata": {
    "id": "bl0unzOr9MWN"
   },
   "source": [
    "### <p style=\"background-color:#9d4f8c; font-family:newtimeroman; color:#FFF9ED; font-size:150%; text-align:center; border-radius:10px 10px;\">TASK 09 - PLOTTING BIKE SHARES BY MONTHS & YEAR_OF_MONTH (USE LINEPLOT, POINTPOT, BARPLOT)</p>\n",
    "\n",
    "<a id=\"10\"></a>\n",
    "<a href=\"#toc\" class=\"btn btn-primary btn-sm\" role=\"button\" aria-pressed=\"true\" \n",
    "style=\"color:blue; background-color:#dfa8e4\" data-toggle=\"popover\">Content</a>"
   ]
  },
  {
   "cell_type": "code",
   "execution_count": null,
   "metadata": {},
   "outputs": [],
   "source": [
    "df.head()"
   ]
  },
  {
   "cell_type": "code",
   "execution_count": null,
   "metadata": {
    "id": "r37qftbg20Iy"
   },
   "outputs": [],
   "source": [
    "df_sum = pd.DataFrame(df.groupby('year_month').cnt.sum())\n",
    "# df_sum"
   ]
  },
  {
   "cell_type": "code",
   "execution_count": null,
   "metadata": {
    "colab": {
     "base_uri": "https://localhost:8080/",
     "height": 288
    },
    "id": "rx3Gh3Cw20Iy",
    "outputId": "385c85c9-7990-4dc2-f72e-41b0dd4728c3"
   },
   "outputs": [],
   "source": [
    "plt.figure(figsize=(20, 5))\n",
    "\n",
    "sns.lineplot(x='year_month', y='cnt', data=df_sum)\n",
    "plt.ticklabel_format(style='plain', axis='y')\n",
    "\n",
    "# ax = plt.gca()\n",
    "# plt.xticks(fontsize=20)\n",
    "# ax.set_xlabel(ax.get_xlabel(), fontsize=20)\n",
    "# plt.yticks(fontsize=20)\n",
    "# ax.set_ylabel(ax.get_ylabel(), fontsize=20)\n",
    "plt.xticks(rotation=45);\n",
    "\n",
    "# pd.DataFrame(df.groupby('year_month').cnt.mean().apply(lambda x:round(x, 1))).reset_index(drop=True).T"
   ]
  },
  {
   "cell_type": "code",
   "execution_count": null,
   "metadata": {
    "scrolled": true
   },
   "outputs": [],
   "source": [
    "df.groupby(\"month\")[\"cnt\"].mean()  #.median, .std"
   ]
  },
  {
   "cell_type": "code",
   "execution_count": null,
   "metadata": {},
   "outputs": [],
   "source": [
    "plt.figure(figsize=(10,10))\n",
    "data=df.groupby(\"year_month\")[\"cnt\"]\n",
    "data.plot.bar(x=\"year_month\", y=\"cnt\");"
   ]
  },
  {
   "cell_type": "code",
   "execution_count": null,
   "metadata": {
    "colab": {
     "base_uri": "https://localhost:8080/",
     "height": 327
    },
    "id": "yddCIi3R20Iz",
    "outputId": "108cb9a4-3def-4c68-9ec2-bf26ad9e41dd"
   },
   "outputs": [],
   "source": [
    "# with lineplot\n",
    "\n",
    "plt.figure(figsize=(15, 5))\n",
    "sns.lineplot(x='month', y='cnt', data=df);\n",
    "\n",
    "# pd.DataFrame(df.groupby('month').cnt.mean().apply(lambda x:round(x, 1))).T"
   ]
  },
  {
   "cell_type": "code",
   "execution_count": null,
   "metadata": {
    "colab": {
     "base_uri": "https://localhost:8080/",
     "height": 327
    },
    "id": "2VXlvX_b20Iz",
    "outputId": "e97eb8da-5e32-4c8c-c36a-a1b5febda4a6"
   },
   "outputs": [],
   "source": [
    "# with pointplot\n",
    "\n",
    "plt.figure(figsize=(15, 5))\n",
    "sns.pointplot(x=\"month\", y =\"cnt\", data=df);"
   ]
  },
  {
   "cell_type": "code",
   "execution_count": null,
   "metadata": {
    "colab": {
     "base_uri": "https://localhost:8080/",
     "height": 388
    },
    "id": "AfIj8A4820Iz",
    "outputId": "560e2c01-5484-4d4d-b46a-6002c60d5d48"
   },
   "outputs": [],
   "source": [
    "# with barplot\n",
    "\n",
    "plt.figure(figsize=(14, 6))\n",
    "\n",
    "sns.barplot(x=\"month\", y=\"cnt\", data=df);\n",
    "# or\n",
    "# sns.factorplot(x=\"month\", y=\"cnt\", data=df, kind='bar', size=5, aspect=1.5);"
   ]
  },
  {
   "cell_type": "code",
   "execution_count": null,
   "metadata": {},
   "outputs": [],
   "source": [
    "plt.figure(figsize=(15, 5))\n",
    "\n",
    "chart = sns.barplot(x=\"month\", y=\"cnt\", data=df, estimator=sum, ci=None)\n",
    "# plt.ticklabel_format(style='plain', axis='y')\n",
    "\n",
    "# new helper method to auto-label bars (matplotlib 3.4.0+)\n",
    "chart.bar_label(chart.containers[0], fmt='%d');"
   ]
  },
  {
   "cell_type": "markdown",
   "metadata": {
    "id": "4E1AiBafAzaO"
   },
   "source": [
    "### <p style=\"background-color:#9d4f8c; font-family:newtimeroman; color:#FFF9ED; font-size:150%; text-align:center; border-radius:10px 10px;\">TASK 10 - PLOTTING BIKE SHARES BY HOURS ON (HOLIDAYS, WEEKEND, SEASON)</p>\n",
    "\n",
    "<a id=\"11\"></a>\n",
    "<a href=\"#toc\" class=\"btn btn-primary btn-sm\" role=\"button\" aria-pressed=\"true\" \n",
    "style=\"color:blue; background-color:#dfa8e4\" data-toggle=\"popover\">Content</a>"
   ]
  },
  {
   "cell_type": "code",
   "execution_count": null,
   "metadata": {
    "colab": {
     "base_uri": "https://localhost:8080/",
     "height": 254
    },
    "id": "MAXUb-Tn20Iz",
    "outputId": "8450b80e-947c-48d5-b5a8-e61a2047c3c6"
   },
   "outputs": [],
   "source": [
    "# with lineplot (*whether it is a holiday or not*)\n",
    "\n",
    "plt.figure(figsize=(20, 10))\n",
    "\n",
    "sns.lineplot(x='hour', y='cnt', data=df, hue='is_holiday');\n",
    "\n",
    "# pd.DataFrame(df.groupby('hour').cnt.mean().apply(lambda x: round(x, 1))).T"
   ]
  },
  {
   "cell_type": "code",
   "execution_count": null,
   "metadata": {},
   "outputs": [],
   "source": [
    "# with lineplot (*whether it is weekend or not*)\n",
    "\n",
    "plt.figure(figsize=(20, 5))\n",
    "sns.lineplot(x='hour', y='cnt', data=df, hue='is_weekend');\n",
    "\n",
    "# pd.DataFrame(df.groupby('hour').cnt.mean().apply(lambda x: round(x, 1))).T"
   ]
  },
  {
   "cell_type": "code",
   "execution_count": null,
   "metadata": {
    "colab": {
     "base_uri": "https://localhost:8080/",
     "height": 327
    },
    "id": "ly1idLJL20Iz",
    "outputId": "0b6a3cbc-264e-4566-ec93-7745530ce646"
   },
   "outputs": [],
   "source": [
    "# with lineplot (*You may want to see seasonal breakdowns*)\n",
    "\n",
    "plt.figure(figsize=(15, 5))\n",
    "\n",
    "sns.lineplot(x='hour', y='cnt', data=df, hue='season')\n",
    "plt.show()"
   ]
  },
  {
   "cell_type": "code",
   "execution_count": null,
   "metadata": {
    "colab": {
     "base_uri": "https://localhost:8080/",
     "height": 726
    },
    "id": "fZFUlVJn20I0",
    "outputId": "8657d3c8-4c7d-447d-f22f-3ddc6347e9bb"
   },
   "outputs": [],
   "source": [
    "# with pointplot\n",
    "\n",
    "fig, (ax1, ax2, ax3, ax4) = plt.subplots(nrows=4, figsize=(18, 15))\n",
    "\n",
    "sns.pointplot(data=df, x='hour', y='cnt', ax=ax1)\n",
    "sns.pointplot(data=df, x='hour', y='cnt', hue='is_holiday', ax=ax2)\n",
    "sns.pointplot(data=df, x='hour', y='cnt', hue='is_weekend', ax=ax3)\n",
    "sns.pointplot(data=df, x='hour', y='cnt', hue='season', ax=ax4);"
   ]
  },
  {
   "cell_type": "markdown",
   "metadata": {
    "id": "QzP5i5wrAzaO"
   },
   "source": [
    "### <p style=\"background-color:#9d4f8c; font-family:newtimeroman; color:#FFF9ED; font-size:150%; text-align:center; border-radius:10px 10px;\">TASK 11 - PLOTTING BIKE SHARES BY DAY OF WEEK</p>\n",
    "\n",
    "<a id=\"12\"></a>\n",
    "<a href=\"#toc\" class=\"btn btn-primary btn-sm\" role=\"button\" aria-pressed=\"true\" \n",
    "style=\"color:blue; background-color:#dfa8e4\" data-toggle=\"popover\">Content</a>\n",
    "\n",
    "- You may want to see whether it is a holiday or not"
   ]
  },
  {
   "cell_type": "code",
   "execution_count": null,
   "metadata": {
    "colab": {
     "base_uri": "https://localhost:8080/",
     "height": 280
    },
    "id": "7GB4NtqL20I0",
    "outputId": "8e1bec3f-7ada-4f39-c36e-b5a8d4afa352"
   },
   "outputs": [],
   "source": [
    "# with barplot\n",
    "\n",
    "plt.figure(figsize=(7, 4))\n",
    "\n",
    "sns.barplot(x=\"day_of_week\", y=\"cnt\", data=df, hue='is_weekend');\n",
    "\n",
    "# # if you want to change legend location\n",
    "plt.legend(loc='center left',bbox_to_anchor=(1, 0.928));"
   ]
  },
  {
   "cell_type": "code",
   "execution_count": null,
   "metadata": {
    "colab": {
     "base_uri": "https://localhost:8080/",
     "height": 498
    },
    "id": "9fxEGhPQ20I0",
    "outputId": "097cdcae-0fc4-4c87-ee90-8d8139f05d72",
    "scrolled": true
   },
   "outputs": [],
   "source": [
    "# with pointplot\n",
    "\n",
    "fig, (ax1, ax2) = plt.subplots(nrows=2) # figzise=(15, 8)\n",
    "fig.set_size_inches(15, 8)  \n",
    "\n",
    "sns.pointplot(data=df, x='day_of_week', y='cnt',ax=ax1)\n",
    "sns.pointplot(x=\"day_of_week\", y=\"cnt\", data=df, hue=\"season\", ax=ax2)\n",
    "plt.show()"
   ]
  },
  {
   "cell_type": "markdown",
   "metadata": {
    "id": "HMeHndo_20I0"
   },
   "source": [
    "### <p style=\"background-color:#9d4f8c; font-family:newtimeroman; color:#FFF9ED; font-size:150%; text-align:center; border-radius:10px 10px;\">TASK 12 - PLOTTING BIKE SHARES BY DAY OF MONTH</p>\n",
    "\n",
    "<a id=\"13\"></a>\n",
    "<a href=\"#toc\" class=\"btn btn-primary btn-sm\" role=\"button\" aria-pressed=\"true\" \n",
    "style=\"color:blue; background-color:#dfa8e4\" data-toggle=\"popover\">Content</a>"
   ]
  },
  {
   "cell_type": "code",
   "execution_count": null,
   "metadata": {
    "colab": {
     "base_uri": "https://localhost:8080/",
     "height": 418
    },
    "id": "Uh2gF1kn20I1",
    "outputId": "efc4f8ec-5894-4819-8799-78c5422a84fd"
   },
   "outputs": [],
   "source": [
    "#with lineplot\n",
    "\n",
    "plt.figure(figsize=(15, 5))\n",
    "\n",
    "sns.lineplot(x='day_of_month', y='cnt', data=df)\n",
    "pd.DataFrame(df.groupby('day_of_month').cnt.mean().apply(lambda x: round(x))).T\n",
    "# pd.DataFrame(df.groupby(\"day_of_month\").cnt.mean().astype(\"int\")).T"
   ]
  },
  {
   "cell_type": "markdown",
   "metadata": {
    "id": "Si3KWsce20I1"
   },
   "source": [
    "### <p style=\"background-color:#9d4f8c; font-family:newtimeroman; color:#FFF9ED; font-size:150%; text-align:center; border-radius:10px 10px;\">TASK 13 - PLOTTING BIKE SHARES BY YEAR & PLOTTING BIKE SHARES ON HOLIDAYS BY SEASON</p>\n",
    "\n",
    "<a id=\"14\"></a>\n",
    "<a href=\"#toc\" class=\"btn btn-primary btn-sm\" role=\"button\" aria-pressed=\"true\" \n",
    "style=\"color:blue; background-color:#dfa8e4\" data-toggle=\"popover\">Content</a>"
   ]
  },
  {
   "cell_type": "code",
   "execution_count": null,
   "metadata": {
    "colab": {
     "base_uri": "https://localhost:8080/",
     "height": 388
    },
    "id": "kWyoqrrF20I1",
    "outputId": "bc956c8f-3c79-4da8-a6ef-047ddaec5a3b"
   },
   "outputs": [],
   "source": [
    "# with barplot\n",
    "\n",
    "plt.figure(figsize=(10, 6))\n",
    "sns.barplot(x=\"year\", y=\"cnt\", data=df);\n",
    "# or\n",
    "# sns.factorplot(x=\"year\", y=\"cnt\", data=df, kind='bar', size=5, aspect=1.5);"
   ]
  },
  {
   "cell_type": "code",
   "execution_count": null,
   "metadata": {
    "colab": {
     "base_uri": "https://localhost:8080/",
     "height": 279
    },
    "id": "HnY7QtrQ20I1",
    "outputId": "e2959b01-00f9-4e42-9654-edbc1d61b832"
   },
   "outputs": [],
   "source": [
    "sns.barplot(x=\"season\", y=\"cnt\", data=df[df[\"is_holiday\"]==1]);"
   ]
  },
  {
   "cell_type": "markdown",
   "metadata": {
    "id": "b9bB9vrj20I1"
   },
   "source": [
    "### <p style=\"background-color:#9d4f8c; font-family:newtimeroman; color:#FFF9ED; font-size:150%; text-align:center; border-radius:10px 10px;\">TASK 14 - VISUALIZING THE DISTRIBUTION OF BIKE SHARES BY WEEKDAY-WEEKEND WITH USING PIECHART & BARPLOT</p>\n",
    "\n",
    "<a id=\"15\"></a>\n",
    "<a href=\"#toc\" class=\"btn btn-primary btn-sm\" role=\"button\" aria-pressed=\"true\" \n",
    "style=\"color:blue; background-color:#dfa8e4\" data-toggle=\"popover\">Content</a>"
   ]
  },
  {
   "cell_type": "code",
   "execution_count": null,
   "metadata": {},
   "outputs": [],
   "source": [
    "df['is_weekend'].value_counts()"
   ]
  },
  {
   "cell_type": "code",
   "execution_count": null,
   "metadata": {
    "colab": {
     "base_uri": "https://localhost:8080/",
     "height": 163
    },
    "id": "u9i63ZQ59LW0",
    "outputId": "401396db-6223-4aa8-c27b-981646e6737d"
   },
   "outputs": [],
   "source": [
    "df.is_weekend.value_counts().values"
   ]
  },
  {
   "cell_type": "code",
   "execution_count": null,
   "metadata": {
    "colab": {
     "base_uri": "https://localhost:8080/",
     "height": 303
    },
    "id": "CYXHD4gp20I1",
    "outputId": "39f76b35-980e-4f0d-a390-d0c7eaaf6328"
   },
   "outputs": [],
   "source": [
    "fig, ax = plt.subplots(figsize=(5, 5))\n",
    "\n",
    "explode=(0, 0.1)\n",
    "\n",
    "ax.pie(x=df.is_weekend.value_counts().values, \n",
    "       labels=['weekday', 'weekend'], \n",
    "       autopct='%.1f%%'\n",
    "       explode=explode\n",
    "       )\n",
    "\n",
    "plt.show()"
   ]
  },
  {
   "cell_type": "code",
   "execution_count": null,
   "metadata": {
    "colab": {
     "base_uri": "https://localhost:8080/",
     "height": 335
    },
    "id": "W9Z30UH120I2",
    "outputId": "4dabdd14-8f64-4350-a3d8-64a6e03fd622"
   },
   "outputs": [],
   "source": [
    "fig, ax = plt.subplots(figsize=(7, 5))\n",
    "\n",
    "ax = sns.countplot(x='is_weekend',data=df)\n",
    "\n",
    "for bar in ax.patches: \n",
    "        ax.annotate(\"%\" + str(round(100*bar.get_height()/len(df), 1)) + ' - ' + str(bar.get_height() ), \n",
    "                    (bar.get_x()+0.2 , bar.get_height()+10),\n",
    "                    size=12)"
   ]
  },
  {
   "cell_type": "markdown",
   "metadata": {
    "id": "VpzEV42oMmMe"
   },
   "source": [
    "Alternative Solition"
   ]
  },
  {
   "cell_type": "code",
   "execution_count": null,
   "metadata": {
    "colab": {
     "base_uri": "https://localhost:8080/",
     "height": 336
    },
    "id": "hIFEl7vqL9Jz",
    "outputId": "af8e68e7-d4fa-4f36-bf5a-79a7fd466ee4",
    "scrolled": true
   },
   "outputs": [],
   "source": [
    "fig, ax = plt.subplots(figsize=(7, 5))\n",
    "\n",
    "ax = sns.countplot(x='is_weekend', data=df)\n",
    "\n",
    "for bar in ax.patches: \n",
    "        ax.annotate( \"%\" + str(round(100*bar.get_height()/len(df),1)) + ' - ' + str(bar.get_height()), \n",
    "                    (bar.get_x() + bar.get_width() / 2,  \n",
    "                    bar.get_height()),  \n",
    "                    ha='center', \n",
    "                    va='center',\n",
    "                    size=12, \n",
    "                    xytext=(0, 6), \n",
    "                    textcoords='offset points')"
   ]
  },
  {
   "cell_type": "markdown",
   "metadata": {
    "id": "WY0UbCNt20I2"
   },
   "source": [
    "### <p style=\"background-color:#9d4f8c; font-family:newtimeroman; color:#FFF9ED; font-size:150%; text-align:center; border-radius:10px 10px;\">TASK 15 - PLOTTING THE DISTRIBUTION OF WEATHER CODE BY SEASON</p>\n",
    "\n",
    "<a id=\"16\"></a>\n",
    "<a href=\"#toc\" class=\"btn btn-primary btn-sm\" role=\"button\" aria-pressed=\"true\" \n",
    "style=\"color:blue; background-color:#dfa8e4\" data-toggle=\"popover\">Content</a>"
   ]
  },
  {
   "cell_type": "code",
   "execution_count": null,
   "metadata": {
    "colab": {
     "base_uri": "https://localhost:8080/",
     "height": 280
    },
    "id": "hPDyFzw320I2",
    "outputId": "cde97b83-ffea-43be-b07f-edc4188f7fda"
   },
   "outputs": [],
   "source": [
    "# with seaborn countplot\n",
    "\n",
    "sns.countplot(x=\"weather_code\", data=df);"
   ]
  },
  {
   "cell_type": "code",
   "execution_count": null,
   "metadata": {
    "colab": {
     "base_uri": "https://localhost:8080/",
     "height": 376
    },
    "id": "LRnODYJ_20I2",
    "outputId": "43ce47f2-40fc-4472-9b5a-6df290ee5532"
   },
   "outputs": [],
   "source": [
    "# with catplot\n",
    "\n",
    "g = sns.catplot(x=\"weather_code\", col=\"season\", data=df, kind='count');"
   ]
  },
  {
   "cell_type": "code",
   "execution_count": null,
   "metadata": {
    "id": "7I1DmPTsphf8"
   },
   "outputs": [],
   "source": [
    "# with catplot\n",
    "\n",
    "sns.catplot(x=\"weather_code\", hue=\"season\", data=df, kind='count');"
   ]
  },
  {
   "cell_type": "markdown",
   "metadata": {},
   "source": [
    "## BONUS"
   ]
  },
  {
   "cell_type": "code",
   "execution_count": null,
   "metadata": {},
   "outputs": [],
   "source": [
    "# Thu Lux is an extra visualization Libarary \n",
    "# which is, at the begining of your analysis, beneficial to get first insight about the data before going further.\n",
    "\n",
    "import lux\n",
    "# !pip install lux-api\n",
    "# !jupyter nbextension install --py luxwidget\n",
    "# !jupyter nbextension enable --py luxwidget"
   ]
  },
  {
   "cell_type": "code",
   "execution_count": null,
   "metadata": {},
   "outputs": [],
   "source": [
    "df"
   ]
  },
  {
   "cell_type": "markdown",
   "metadata": {},
   "source": [
    "## <p style=\"background-color:#9d4f8c; font-family:newtimeroman; color:#FFF9ED; font-size:150%; text-align:center; border-radius:10px 10px;\">THE END OF THE CAPSTONE PROJECT</p>\n",
    "\n",
    "<a id=\"17\"></a>\n",
    "<a href=\"#toc\" class=\"btn btn-primary btn-sm\" role=\"button\" aria-pressed=\"true\" \n",
    "style=\"color:blue; background-color:#dfa8e4\" data-toggle=\"popover\">Content</a>"
   ]
  },
  {
   "cell_type": "markdown",
   "metadata": {
    "id": "flznMCqEAzac"
   },
   "source": [
    "___\n",
    "\n",
    "<p style=\"text-align: center;\"><img src=\"https://docs.google.com/uc?id=1lY0Uj5R04yMY3-ZppPWxqCr5pvBLYPnV\" class=\"img-fluid\" \n",
    "alt=\"CLRSWY\"></p>\n",
    "\n",
    "## <p style=\"background-color:#FDFEFE; font-family:newtimeroman; color:#9d4f8c; font-size:100%; text-align:center; border-radius:10px 10px;\">WAY TO REINVENT YOURSELF</p>\n",
    "\n",
    "___"
   ]
  }
 ],
 "metadata": {
  "colab": {
   "collapsed_sections": [],
   "name": "DV_capstone_solution.ipynb",
   "provenance": [],
   "toc_visible": true
  },
  "kernelspec": {
   "display_name": "Python 3 (ipykernel)",
   "language": "python",
   "name": "python3"
  },
  "language_info": {
   "codemirror_mode": {
    "name": "ipython",
    "version": 3
   },
   "file_extension": ".py",
   "mimetype": "text/x-python",
   "name": "python",
   "nbconvert_exporter": "python",
   "pygments_lexer": "ipython3",
   "version": "3.9.12"
  },
  "toc": {
   "base_numbering": 1,
   "nav_menu": {},
   "number_sections": false,
   "sideBar": true,
   "skip_h1_title": false,
   "title_cell": "Table of Contents",
   "title_sidebar": "Contents",
   "toc_cell": false,
   "toc_position": {},
   "toc_section_display": true,
   "toc_window_display": false
  }
 },
 "nbformat": 4,
 "nbformat_minor": 4
}
