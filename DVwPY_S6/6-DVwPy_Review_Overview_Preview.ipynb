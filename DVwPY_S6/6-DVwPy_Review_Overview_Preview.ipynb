{
 "cells": [
  {
   "cell_type": "markdown",
   "metadata": {
    "id": "GNJ8DeRtAzaB"
   },
   "source": [
    "* <a href=\"https://colab.research.google.com/github/4dsolutions/clarusway_data_analysis/blob/main/DVwPY_S6/6-DVwPy_Review_Overview_Preview.ipynb\"><img align=\"left\" src=\"https://colab.research.google.com/assets/colab-badge.svg\" alt=\"Open in Colab\" title=\"Open and Execute in Google Colaboratory\"></a><br/>\n",
    "* <a href=\"https://nbviewer.org/github/4dsolutions/clarusway_data_analysis/blob/main/DVwPY_S6/6-DVwPy_Review_Overview_Preview.ipynb\"><img align=\"left\" src=\"https://raw.githubusercontent.com/jupyter/design/master/logos/Badges/nbviewer_badge.svg\" alt=\"Open in nbviewer\" title=\"Open and View using nbviewer\"></a>\n",
    "\n",
    "___\n",
    "\n",
    "\n",
    "<p style=\"text-align: center;\"><img src=\"https://docs.google.com/uc?id=1lY0Uj5R04yMY3-ZppPWxqCr5pvBLYPnV\" class=\"img-fluid\" \n",
    "alt=\"CLRSWY\"></p>\n",
    "\n",
    "## <p style=\"background-color:#FDFEFE; font-family:newtimeroman; color:#9d4f8c; font-size:100%; text-align:center; border-radius:10px 10px;\">WAY TO REINVENT YOURSELF</p>"
   ]
  },
  {
   "cell_type": "markdown",
   "metadata": {
    "id": "iYlfU09rAzaI"
   },
   "source": [
    "## <p style=\"background-color:#9d4f8c; font-family:newtimeroman; color:#FFF9ED; font-size:150%; text-align:center; border-radius:10px 10px;\">REVIEW, OVERVIEW, PREVIEW</p>\n",
    "\n",
    "Welcome to the conclusion of Data Visualization, with Python.\n",
    "\n",
    "The skillsets we have been most developing in the foreground encompass:\n",
    "\n",
    "* Jupyter -- how we keep our Notes and sometimes publish them\n",
    "* numpy -- the number crunching king of vectorized operations\n",
    "* matplotlib -- plotly imitates Matlab's way of doing things\n",
    "* pandas -- sophisticated DataFrames, isomorphic to spreadsheets*\n",
    "* seaborn -- augmented data visualization, beyond anything up to now\n",
    "* python -- Python itself has more power, as one learns to tap it\n",
    "\n",
    "A core theme of both Data Analysis with Python, and this course, has been Exploratory Data Analysis (EDA).  We imagine the data is a black box at first, and over time we learn to get a sense of it.  Even though we share the details of visualizations in Part 2 (this part), they apply throughout Part 1 i.e. you may start using the power of visualizations right away in EDA.\n",
    "\n",
    "Then come the skillsets we might optionally cultivate in the background.  We might tackle one or more IDEs (vim, vscode, spyder...), remember our HTML (Requests package), practice our Regular Expressions.  \n",
    "\n",
    "Actually, we could add Regexes to the foreground list.\n",
    "\n",
    "$LaTeX$ has been a subskill under Jupyter.  To maximize our Markdown, we want to master typesetting convertional mathematical expressions.\n",
    "\n",
    "Throughout this course, we have alluded to SQL, which accomplished many of the very same tasks but through a different semantics.  We use them both."
   ]
  },
  {
   "cell_type": "markdown",
   "metadata": {},
   "source": [
    "<a id=\"toc\"></a>\n",
    "\n",
    "## <p style=\"background-color:#9d4f8c; font-family:newtimeroman; color:#FFF9ED; font-size:150%; text-align:center; border-radius:10px 10px;\">CONTENT</p>\n",
    "\n",
    "Topics We Covered:\n",
    "\n",
    "* numpy - vectorized powerhouse\n",
    "* pandas - series + tabular dataframes + plots\n",
    "* matplotlib - plots (2D and 3D)\n",
    "* seaborn - fancier plots\n",
    "\n",
    "Topics potentially \"Ahead\":\n",
    "\n",
    "* ml  (machine learning)\n",
    "    - sklearn\n",
    "    - tensorflow\n",
    "    - pytorch\n",
    "    - other\n",
    "* sql  (structured query language)\n",
    "* python (there's always a next level)\n",
    "* geospatial data (in the cards for us all)\n",
    "* [jupyter books](https://jupyterbook.org/en/stable/intro.html) (extending notebook skills)\n",
    "\n",
    "We say \"ahead\" because you may have come from there.  We suggest more stats, but you are coming from knowing stats.\n",
    "\n",
    "In Preview mode then, lets talk about:  *Machine Learning*.\n",
    "\n",
    "Since the very first slides, we have emphasized that what we're picturing is appying data analysis (including visualization) skills as a way of preparing and including some kind of model making.  A mental model may be enough, if the data fits some expected and understood pattern (\"retail sales\"), but we thrive on computational algorithms, and this is where ML comes in."
   ]
  },
  {
   "cell_type": "markdown",
   "metadata": {
    "id": "E5TMW6XaAzaJ"
   },
   "source": [
    "<a id=\"toc\"></a>\n",
    "\n",
    "## <p style=\"background-color:#9d4f8c; font-family:newtimeroman; color:#FFF9ED; font-size:150%; text-align:center; border-radius:10px 10px;\">Preview:  What is ML?</p>\n",
    "Throughout the subject of Statistics, a core aim has been prediction.  Since the dawn of history, we have had a need to divine the future, yet encounter limits on predictability.  \n",
    "\n",
    "The age old project to distill our intuitions about such concepts of \"likelihood\", \"expectations\", \"confidance\", into a science is part of the heritage of data science.\n",
    "\n",
    "What what measure of confidance do expect X to happen?  Does my measure of confidance change with respect to some \"by when?\".  I might expect X to happen someday with 100% confidance, yet with no confidance at all about tomorrow or next week.  \n",
    "\n",
    "These may sound like obvious truths, however in getting clear on such topics, we invent new methods of computation.  We don't stop with some hazy notion of \"average\"; we break it out into mean, medium and mode.\n",
    "\n",
    "We hope to intelligently anticipate (more than wildly or blindly guess), based on the many models we may have developed.  \n",
    "\n",
    "By model, we could mean a simulation.  Does our simulation run as a computer program?  Not necessarily.  People were simulating and internalizing complex systems long before they had invented silicon chip computers.  In some cases, they simply kept careful records.\n",
    "\n",
    "We could also mean, my \"model\", some actual Python object developed for us by one of the model makers (KM, SVM...).\n",
    "\n",
    "Who are the model makers in this context?  Are those people?\n",
    "\n",
    "The model makers are well-known and/or still experimental algorithms.  We categorize them in various ways, such as into supervised and unsupervised. \n",
    "\n",
    "A good example of a working model would be a recommendation engine attached to a website.  \"Based on your choice of YouTubes so far, a next one of interest might be...\".  No human being needed to study your viewing history on order for the machine to make a recommendation.\n",
    "\n",
    "A model need not be mysterious and/or opaque, but it could be. \n",
    "\n",
    "A simple line through a bunch of dots well summarizes many of them.  \n",
    "\n",
    "However some models attain their high powers of prediction at the expense of being able to give us an explicit set of rules.\n",
    "\n",
    "[A Quick List of ML Algorithms](https://howtolearnmachinelearning.com/articles/a-quick-list-of-machine-learning-algorithms/)\n",
    "\n",
    "More concretely, in the supervised learning setting, we show the features (X) and the right answers (y) to a \"learner\" or \"recognizer\" known as a neural net, consider deep after N layers.  The feedback of getting it wrong or right is used to \"weight\" the \"neurons\" through a process known as \"gradient descent\" (uses calculus, partial derivatives, finds a downward path for an error function).\n",
    "\n",
    "The above paragraph puts into words a lot of number crunchy math, which numpy is good at.  What we get back from such a process is a Python object that has powers of prediction.  But to what degree?  How good is it?  Should we turn it loose in the real world?"
   ]
  },
  {
   "cell_type": "markdown",
   "metadata": {
    "id": "mN0CH7VfAzaK"
   },
   "source": [
    "## <p style=\"background-color:#9d4f8c; font-family:newtimeroman; color:#FFF9ED; font-size:150%; text-align:center; border-radius:10px 10px;\">THE ML PROCESS</p>\n",
    "\n",
    "Think about how you yourself learn from experience?  Having a strong sense of a right answer or how you want things to go, is motivational.  Machine Learning sets up a similar feedback loop in the algebra, especially in a supervised setting.\n",
    "\n",
    "The main question before us is one of reliability.  Does our model do the job?  Is a newer model an improvement?\n",
    "\n",
    "One standard approach, to test reliability, is as follows:\n",
    "\n",
    "* give the right answers on a percentage of the total data (training)\n",
    "* try the model against the balance (the rest), never seen\n",
    "* do more testing\n",
    "\n",
    "As you explore Sci-Kit Learn, you will find this standard approach is baked in, through time-saving functions that automatically divvy the data into training and testing sets.\n",
    "\n",
    "The process is akin to shuffling cards as the same total data may be divvyed into testing and training in multiple ways, allowing for more averaging and perhaps fine tuning.  We looked at similar bootstrapping ideas in connection with the Confidance Interval (Seaborn barplot etc.).\n",
    "\n",
    "What's left out of the above description is the whole matter of selecting the appropriate ML engine (model maker), with fine tuned hyperparameters. \n",
    "\n",
    "That process itself suggests a feedback loop:  why not try several ML engines on the same data and find by experiment which seems to work best. Indeed, that's a thing.\n",
    "\n",
    "You will find sklearn support \"ensembles\" of model makers to work together. Sometimes they each reach a conclusion then hold a vote.  Random Forests made of Decision Trees behave in ensemble fashion."
   ]
  },
  {
   "cell_type": "markdown",
   "metadata": {
    "id": "K9eNE2ugAzaK"
   },
   "source": [
    "## <p style=\"background-color:#9d4f8c; font-family:newtimeroman; color:#FFF9ED; font-size:150%; text-align:center; border-radius:10px 10px;\">Cluster Finding Machines</p>\n",
    "\n",
    "Finding clusters is sometimes an \"unsupervised\" form of ML, meaning we do not have a dataset with \"right answers\" for training purposes.  We are looking for patterns in target data without knowing ourselves what they are beforehand.  \n",
    "\n",
    "Other times, we have our clusters defined for training data, in which case the process is \"supervised\".\n",
    "\n",
    "For example, we might want to cluster tweets and short reports into \"topics\" (what the cluster around).  We don't know in advance what those topics will be.  Here's a tutorial \n",
    "\n",
    "When learning about cluster finding, we also learn about cluster making.  Here's a data science teacher mixing some clustered data, in order to discover if SVM (one of the model makers) will find them."
   ]
  },
  {
   "cell_type": "markdown",
   "metadata": {},
   "source": [
    "Citing the tutorial at [General Abstract Nonsense](https://generalabstractnonsense.com/2017/03/A-quick-look-at-Support-Vector-Machines/):"
   ]
  },
  {
   "cell_type": "code",
   "execution_count": 1,
   "metadata": {},
   "outputs": [
    {
     "data": {
      "text/plain": [
       "array([[-0.31178367,  0.72900392],\n",
       "       [ 0.21782079, -0.8990918 ],\n",
       "       [-2.48678065,  0.91325152],\n",
       "       [ 1.12706373, -1.51409323],\n",
       "       [ 1.63929108, -0.4298936 ],\n",
       "       [ 2.63128056,  0.60182225],\n",
       "       [-0.33588161,  1.23773784],\n",
       "       [ 0.11112817,  0.12915125],\n",
       "       [ 0.07612761, -0.15512816],\n",
       "       [ 0.63422534,  0.810655  ]])"
      ]
     },
     "execution_count": 1,
     "metadata": {},
     "output_type": "execute_result"
    }
   ],
   "source": [
    "from sklearn.svm import SVC\n",
    "import numpy as np\n",
    "import matplotlib.pyplot as plt\n",
    "# from mlxtend.plotting import plot_decision_regions\n",
    "\n",
    "# create some V shaped data\n",
    "np.random.seed(6)\n",
    "# normalized floats, 200 rows, 2 columns\n",
    "X = np.random.randn(200, 2)\n",
    "X[:10,:]"
   ]
  },
  {
   "cell_type": "markdown",
   "metadata": {},
   "source": [
    "The rule here is:  y is True if the right column exceeds the absolute value of the left.  Throw away negative signs on the left and ask if the resulting number is less than what's to its right.  y is False if not."
   ]
  },
  {
   "cell_type": "code",
   "execution_count": 2,
   "metadata": {},
   "outputs": [
    {
     "data": {
      "text/plain": [
       "array([ True, False, False, False, False, False,  True,  True, False,\n",
       "        True])"
      ]
     },
     "execution_count": 2,
     "metadata": {},
     "output_type": "execute_result"
    }
   ],
   "source": [
    "# create a \"predict me\" vector\n",
    "y = X[:, 1] > np.absolute(X[:, 0])\n",
    "y[:10]"
   ]
  },
  {
   "cell_type": "markdown",
   "metadata": {},
   "source": [
    "We can recast y as 1s and negative 1s using the ever-useful `np.where`."
   ]
  },
  {
   "cell_type": "code",
   "execution_count": 3,
   "metadata": {},
   "outputs": [
    {
     "data": {
      "text/plain": [
       "array([ 1, -1, -1, -1, -1, -1,  1,  1, -1,  1])"
      ]
     },
     "execution_count": 3,
     "metadata": {},
     "output_type": "execute_result"
    }
   ],
   "source": [
    "y = np.where(y, 1, -1)\n",
    "y[:10]"
   ]
  },
  {
   "cell_type": "markdown",
   "metadata": {},
   "source": [
    "Based on the provided data, we find the Support Vector Machine is pretty good at teasing apart the y=1 from the y=-1, but will not get it right 100% of the time.\n",
    "\n",
    "We're not requiring `mlxtend.plotting` to run this Notebook, but Google colab has it, so here's a screen shot:"
   ]
  },
  {
   "cell_type": "markdown",
   "metadata": {},
   "source": [
    "<a data-flickr-embed=\"true\" href=\"https://www.flickr.com/photos/kirbyurner/52313045333/in/dateposted-public/\" title=\"Screen Shot 2022-08-26 at 11.25.15 AM\"><img src=\"https://live.staticflickr.com/65535/52313045333_a499f458dc_z.jpg\" width=\"640\" height=\"513\" alt=\"Screen Shot 2022-08-26 at 11.25.15 AM\"></a><script async src=\"//embedr.flickr.com/assets/client-code.js\" charset=\"utf-8\"></script>"
   ]
  },
  {
   "cell_type": "code",
   "execution_count": 4,
   "metadata": {},
   "outputs": [
    {
     "data": {
      "text/plain": [
       "SVC(C=10.0, gamma=0.5, random_state=0)"
      ]
     },
     "execution_count": 4,
     "metadata": {},
     "output_type": "execute_result"
    }
   ],
   "source": [
    "# train a Support Vector Classifier using the rbf kernel\n",
    "svm = SVC(kernel='rbf', random_state=0, gamma=0.5, C=10.0)\n",
    "svm.fit(X, y)"
   ]
  },
  {
   "cell_type": "markdown",
   "metadata": {},
   "source": [
    "Make up some new X points.  Point = any number of features (columns)"
   ]
  },
  {
   "cell_type": "code",
   "execution_count": 5,
   "metadata": {},
   "outputs": [
    {
     "data": {
      "text/plain": [
       "array([[-0.99,  1.1 ],\n",
       "       [ 0.12,  0.33],\n",
       "       [-3.  ,  1.  ]])"
      ]
     },
     "execution_count": 5,
     "metadata": {},
     "output_type": "execute_result"
    }
   ],
   "source": [
    "data = np.array([[-0.99, 1.1],\n",
    "                  [.12, .33],\n",
    "                  [-3, 1]])\n",
    "data"
   ]
  },
  {
   "cell_type": "markdown",
   "metadata": {},
   "source": [
    "What would the model predict?"
   ]
  },
  {
   "cell_type": "code",
   "execution_count": 6,
   "metadata": {},
   "outputs": [
    {
     "data": {
      "text/plain": [
       "array([ 1,  1, -1])"
      ]
     },
     "execution_count": 6,
     "metadata": {},
     "output_type": "execute_result"
    }
   ],
   "source": [
    "svm.predict(data)"
   ]
  },
  {
   "cell_type": "markdown",
   "metadata": {},
   "source": [
    "What would we consider correct?"
   ]
  },
  {
   "cell_type": "code",
   "execution_count": 7,
   "metadata": {},
   "outputs": [
    {
     "data": {
      "text/plain": [
       "array([ True,  True, False])"
      ]
     },
     "execution_count": 7,
     "metadata": {},
     "output_type": "execute_result"
    }
   ],
   "source": [
    "new_y = data[:, 1] > np.absolute(data[:, 0])\n",
    "new_y"
   ]
  },
  {
   "cell_type": "markdown",
   "metadata": {},
   "source": [
    "Lets do more study into the reliability of svm in this instance."
   ]
  },
  {
   "cell_type": "code",
   "execution_count": 8,
   "metadata": {},
   "outputs": [],
   "source": [
    "from sklearn.metrics import accuracy_score"
   ]
  },
  {
   "cell_type": "code",
   "execution_count": 9,
   "metadata": {},
   "outputs": [
    {
     "data": {
      "text/plain": [
       "array([ 1, -1, -1, -1, -1, -1,  1,  1, -1,  1,  1, -1, -1, -1,  1, -1,  1,\n",
       "       -1, -1, -1, -1,  1, -1, -1, -1,  1,  1,  1, -1,  1, -1,  1, -1, -1,\n",
       "       -1, -1,  1, -1, -1, -1,  1, -1,  1, -1, -1, -1, -1, -1,  1, -1, -1,\n",
       "       -1, -1, -1, -1,  1, -1, -1, -1,  1, -1, -1, -1, -1, -1, -1, -1,  1,\n",
       "       -1, -1, -1, -1, -1, -1, -1, -1, -1, -1,  1, -1, -1, -1,  1, -1, -1,\n",
       "        1, -1, -1, -1, -1,  1, -1, -1, -1,  1,  1,  1, -1, -1, -1,  1,  1,\n",
       "        1, -1, -1, -1, -1, -1,  1,  1, -1, -1,  1, -1,  1, -1, -1, -1,  1,\n",
       "       -1, -1, -1,  1, -1, -1, -1, -1, -1,  1, -1, -1, -1,  1,  1, -1,  1,\n",
       "        1, -1,  1, -1,  1,  1, -1, -1,  1, -1, -1, -1, -1,  1,  1,  1, -1,\n",
       "       -1, -1, -1, -1,  1,  1, -1,  1,  1, -1, -1, -1, -1, -1,  1, -1,  1,\n",
       "       -1,  1, -1,  1, -1, -1, -1, -1, -1, -1, -1, -1, -1,  1, -1,  1, -1,\n",
       "        1, -1, -1, -1, -1, -1, -1,  1, -1, -1, -1, -1, -1])"
      ]
     },
     "execution_count": 9,
     "metadata": {},
     "output_type": "execute_result"
    }
   ],
   "source": [
    "svm.predict(X)"
   ]
  },
  {
   "cell_type": "code",
   "execution_count": 10,
   "metadata": {},
   "outputs": [
    {
     "data": {
      "text/plain": [
       "array([ 1, -1, -1, -1, -1, -1,  1,  1, -1,  1,  1, -1, -1, -1,  1, -1,  1,\n",
       "       -1, -1, -1, -1,  1, -1, -1, -1,  1,  1,  1, -1,  1, -1,  1, -1, -1,\n",
       "       -1, -1,  1, -1, -1, -1,  1, -1,  1, -1, -1, -1, -1, -1,  1, -1, -1,\n",
       "       -1, -1, -1, -1,  1, -1, -1, -1,  1, -1, -1, -1, -1, -1, -1, -1,  1,\n",
       "       -1, -1, -1, -1, -1, -1, -1, -1, -1, -1,  1, -1, -1, -1,  1, -1, -1,\n",
       "        1, -1, -1, -1, -1,  1, -1, -1, -1,  1,  1,  1, -1, -1, -1,  1,  1,\n",
       "        1, -1, -1, -1, -1, -1,  1,  1, -1, -1,  1, -1,  1, -1, -1, -1,  1,\n",
       "       -1, -1,  1,  1, -1, -1, -1, -1, -1,  1, -1, -1, -1,  1,  1, -1,  1,\n",
       "        1, -1,  1, -1,  1,  1, -1, -1,  1, -1, -1,  1, -1,  1,  1,  1, -1,\n",
       "       -1, -1, -1, -1,  1,  1, -1,  1,  1, -1, -1, -1, -1, -1,  1, -1,  1,\n",
       "       -1,  1, -1,  1, -1, -1, -1, -1, -1, -1, -1, -1, -1,  1, -1,  1, -1,\n",
       "        1, -1, -1, -1, -1, -1, -1,  1, -1, -1, -1, -1, -1])"
      ]
     },
     "execution_count": 10,
     "metadata": {},
     "output_type": "execute_result"
    }
   ],
   "source": [
    "y"
   ]
  },
  {
   "cell_type": "code",
   "execution_count": 11,
   "metadata": {},
   "outputs": [
    {
     "data": {
      "text/plain": [
       "0.99"
      ]
     },
     "execution_count": 11,
     "metadata": {},
     "output_type": "execute_result"
    }
   ],
   "source": [
    "accuracy_score(y, svm.predict(X))"
   ]
  },
  {
   "cell_type": "code",
   "execution_count": 12,
   "metadata": {},
   "outputs": [
    {
     "data": {
      "text/plain": [
       "array([ True,  True,  True,  True,  True,  True,  True,  True,  True,\n",
       "        True,  True,  True,  True,  True,  True,  True,  True,  True,\n",
       "        True,  True,  True,  True,  True,  True,  True,  True,  True,\n",
       "        True,  True,  True,  True,  True,  True,  True,  True,  True,\n",
       "        True,  True,  True,  True,  True,  True,  True,  True,  True,\n",
       "        True,  True,  True,  True,  True,  True,  True,  True,  True,\n",
       "        True,  True,  True,  True,  True,  True,  True,  True,  True,\n",
       "        True,  True,  True,  True,  True,  True,  True,  True,  True,\n",
       "        True,  True,  True,  True,  True,  True,  True,  True,  True,\n",
       "        True,  True,  True,  True,  True,  True,  True,  True,  True,\n",
       "        True,  True,  True,  True,  True,  True,  True,  True,  True,\n",
       "        True,  True,  True,  True,  True,  True,  True,  True,  True,\n",
       "        True,  True,  True,  True,  True,  True,  True,  True,  True,\n",
       "        True,  True,  True,  True, False,  True,  True,  True,  True,\n",
       "        True,  True,  True,  True,  True,  True,  True,  True,  True,\n",
       "        True,  True,  True,  True,  True,  True,  True,  True,  True,\n",
       "        True,  True,  True, False,  True,  True,  True,  True,  True,\n",
       "        True,  True,  True,  True,  True,  True,  True,  True,  True,\n",
       "        True,  True,  True,  True,  True,  True,  True,  True,  True,\n",
       "        True,  True,  True,  True,  True,  True,  True,  True,  True,\n",
       "        True,  True,  True,  True,  True,  True,  True,  True,  True,\n",
       "        True,  True,  True,  True,  True,  True,  True,  True,  True,\n",
       "        True,  True])"
      ]
     },
     "execution_count": 12,
     "metadata": {},
     "output_type": "execute_result"
    }
   ],
   "source": [
    "y == svm.predict(X)"
   ]
  },
  {
   "cell_type": "markdown",
   "metadata": {
    "id": "uSlEdW1A20Io"
   },
   "source": [
    "## <p style=\"background-color:#9d4f8c; font-family:newtimeroman; color:#FFF9ED; font-size:150%; text-align:center; border-radius:10px 10px;\">Categorizing Machines</p>\n",
    "\n",
    "**Clickbait Versus Headlines**\n",
    "\n",
    "We will need pandas for this next example, with its amazing ability to read csv files over the web, taking a URL as input.\n",
    "\n",
    "The file below is actually just a txt file, a csv with no headers, and it's delimited by tab.  No problemo:"
   ]
  },
  {
   "cell_type": "code",
   "execution_count": 13,
   "metadata": {},
   "outputs": [],
   "source": [
    "import pandas as pd"
   ]
  },
  {
   "cell_type": "code",
   "execution_count": 14,
   "metadata": {
    "id": "GL3nsXNYAzaL"
   },
   "outputs": [],
   "source": [
    "df_clickbait = pd.read_csv(\"https://raw.githubusercontent.com/sixhobbits/sklearn-intro/master/clickbait.txt\", sep=\"\\t\", header=None)"
   ]
  },
  {
   "cell_type": "code",
   "execution_count": 15,
   "metadata": {},
   "outputs": [
    {
     "name": "stdout",
     "output_type": "stream",
     "text": [
      "<class 'pandas.core.frame.DataFrame'>\n",
      "RangeIndex: 10000 entries, 0 to 9999\n",
      "Data columns (total 2 columns):\n",
      " #   Column  Non-Null Count  Dtype \n",
      "---  ------  --------------  ----- \n",
      " 0   0       10000 non-null  object\n",
      " 1   1       10000 non-null  int64 \n",
      "dtypes: int64(1), object(1)\n",
      "memory usage: 156.4+ KB\n"
     ]
    }
   ],
   "source": [
    "df_clickbait.info()"
   ]
  },
  {
   "cell_type": "code",
   "execution_count": 16,
   "metadata": {},
   "outputs": [
    {
     "data": {
      "text/html": [
       "<div>\n",
       "<style scoped>\n",
       "    .dataframe tbody tr th:only-of-type {\n",
       "        vertical-align: middle;\n",
       "    }\n",
       "\n",
       "    .dataframe tbody tr th {\n",
       "        vertical-align: top;\n",
       "    }\n",
       "\n",
       "    .dataframe thead th {\n",
       "        text-align: right;\n",
       "    }\n",
       "</style>\n",
       "<table border=\"1\" class=\"dataframe\">\n",
       "  <thead>\n",
       "    <tr style=\"text-align: right;\">\n",
       "      <th></th>\n",
       "      <th>1</th>\n",
       "    </tr>\n",
       "  </thead>\n",
       "  <tbody>\n",
       "    <tr>\n",
       "      <th>count</th>\n",
       "      <td>10000.000000</td>\n",
       "    </tr>\n",
       "    <tr>\n",
       "      <th>mean</th>\n",
       "      <td>0.500000</td>\n",
       "    </tr>\n",
       "    <tr>\n",
       "      <th>std</th>\n",
       "      <td>0.500025</td>\n",
       "    </tr>\n",
       "    <tr>\n",
       "      <th>min</th>\n",
       "      <td>0.000000</td>\n",
       "    </tr>\n",
       "    <tr>\n",
       "      <th>25%</th>\n",
       "      <td>0.000000</td>\n",
       "    </tr>\n",
       "    <tr>\n",
       "      <th>50%</th>\n",
       "      <td>0.500000</td>\n",
       "    </tr>\n",
       "    <tr>\n",
       "      <th>75%</th>\n",
       "      <td>1.000000</td>\n",
       "    </tr>\n",
       "    <tr>\n",
       "      <th>max</th>\n",
       "      <td>1.000000</td>\n",
       "    </tr>\n",
       "  </tbody>\n",
       "</table>\n",
       "</div>"
      ],
      "text/plain": [
       "                  1\n",
       "count  10000.000000\n",
       "mean       0.500000\n",
       "std        0.500025\n",
       "min        0.000000\n",
       "25%        0.000000\n",
       "50%        0.500000\n",
       "75%        1.000000\n",
       "max        1.000000"
      ]
     },
     "execution_count": 16,
     "metadata": {},
     "output_type": "execute_result"
    }
   ],
   "source": [
    "df_clickbait.describe()"
   ]
  },
  {
   "cell_type": "code",
   "execution_count": 17,
   "metadata": {},
   "outputs": [
    {
     "data": {
      "text/html": [
       "<div>\n",
       "<style scoped>\n",
       "    .dataframe tbody tr th:only-of-type {\n",
       "        vertical-align: middle;\n",
       "    }\n",
       "\n",
       "    .dataframe tbody tr th {\n",
       "        vertical-align: top;\n",
       "    }\n",
       "\n",
       "    .dataframe thead th {\n",
       "        text-align: right;\n",
       "    }\n",
       "</style>\n",
       "<table border=\"1\" class=\"dataframe\">\n",
       "  <thead>\n",
       "    <tr style=\"text-align: right;\">\n",
       "      <th></th>\n",
       "      <th>0</th>\n",
       "      <th>1</th>\n",
       "    </tr>\n",
       "  </thead>\n",
       "  <tbody>\n",
       "    <tr>\n",
       "      <th>9093</th>\n",
       "      <td>Hitler doll story found to be hoaxed</td>\n",
       "      <td>0</td>\n",
       "    </tr>\n",
       "    <tr>\n",
       "      <th>3932</th>\n",
       "      <td>DO NOT Watch This If You Want \"Star Wars\" To B...</td>\n",
       "      <td>1</td>\n",
       "    </tr>\n",
       "    <tr>\n",
       "      <th>1802</th>\n",
       "      <td>Which Quote In Literature Helped You Out With ...</td>\n",
       "      <td>1</td>\n",
       "    </tr>\n",
       "    <tr>\n",
       "      <th>3211</th>\n",
       "      <td>Seven Moroccans killed in bus crash in central...</td>\n",
       "      <td>0</td>\n",
       "    </tr>\n",
       "    <tr>\n",
       "      <th>6503</th>\n",
       "      <td>Martin Scorsese's Impression Of Robert De Niro...</td>\n",
       "      <td>1</td>\n",
       "    </tr>\n",
       "    <tr>\n",
       "      <th>7890</th>\n",
       "      <td>This TBT Of Taylor Swift Will Make You Go \"Awww\"</td>\n",
       "      <td>1</td>\n",
       "    </tr>\n",
       "    <tr>\n",
       "      <th>519</th>\n",
       "      <td>You'll Sob When You Try These Yoga Poses At Home</td>\n",
       "      <td>1</td>\n",
       "    </tr>\n",
       "    <tr>\n",
       "      <th>5182</th>\n",
       "      <td>17 Entirely Unnecessary Beauty Products That A...</td>\n",
       "      <td>1</td>\n",
       "    </tr>\n",
       "    <tr>\n",
       "      <th>1067</th>\n",
       "      <td>South African government appeals for calm afte...</td>\n",
       "      <td>0</td>\n",
       "    </tr>\n",
       "    <tr>\n",
       "      <th>6059</th>\n",
       "      <td>22 Photos That Won't Make Sense To People With...</td>\n",
       "      <td>1</td>\n",
       "    </tr>\n",
       "    <tr>\n",
       "      <th>7317</th>\n",
       "      <td>18 Things You Won't See In \"The Force Awakens\"</td>\n",
       "      <td>1</td>\n",
       "    </tr>\n",
       "    <tr>\n",
       "      <th>5189</th>\n",
       "      <td>Adele's Reaction To The \"SNL\" Skit About Her I...</td>\n",
       "      <td>1</td>\n",
       "    </tr>\n",
       "    <tr>\n",
       "      <th>5981</th>\n",
       "      <td>What TV Show Helped You During Your Depression</td>\n",
       "      <td>1</td>\n",
       "    </tr>\n",
       "    <tr>\n",
       "      <th>398</th>\n",
       "      <td>The U.S. Men's Gymnastics Team Is So Hot It's ...</td>\n",
       "      <td>1</td>\n",
       "    </tr>\n",
       "    <tr>\n",
       "      <th>2146</th>\n",
       "      <td>7 Adorable Crossbreed Dogs You Never Knew Existed</td>\n",
       "      <td>1</td>\n",
       "    </tr>\n",
       "    <tr>\n",
       "      <th>2808</th>\n",
       "      <td>Scientology defector arrested after attempting...</td>\n",
       "      <td>0</td>\n",
       "    </tr>\n",
       "    <tr>\n",
       "      <th>6156</th>\n",
       "      <td>Amid Floods, Brazilian Town Wades On</td>\n",
       "      <td>0</td>\n",
       "    </tr>\n",
       "    <tr>\n",
       "      <th>1014</th>\n",
       "      <td>Kenya confirms first swine flu case</td>\n",
       "      <td>0</td>\n",
       "    </tr>\n",
       "    <tr>\n",
       "      <th>8753</th>\n",
       "      <td>Here's How To Step Up Your Selfie Game By Thin...</td>\n",
       "      <td>1</td>\n",
       "    </tr>\n",
       "    <tr>\n",
       "      <th>3910</th>\n",
       "      <td>Canadian merchant Ed Mirvish Dies at 92</td>\n",
       "      <td>0</td>\n",
       "    </tr>\n",
       "    <tr>\n",
       "      <th>6985</th>\n",
       "      <td>In Thin Air of the Alps, Swiss Secrecy Is Vani...</td>\n",
       "      <td>0</td>\n",
       "    </tr>\n",
       "    <tr>\n",
       "      <th>4282</th>\n",
       "      <td>How Romance's Hottest Writing Duo Turned Fanfi...</td>\n",
       "      <td>1</td>\n",
       "    </tr>\n",
       "    <tr>\n",
       "      <th>2053</th>\n",
       "      <td>With Troubled Coyotes, Gretzky Called On as Sa...</td>\n",
       "      <td>0</td>\n",
       "    </tr>\n",
       "    <tr>\n",
       "      <th>7343</th>\n",
       "      <td>Winners of 2006 New Zealand Music Awards annou...</td>\n",
       "      <td>0</td>\n",
       "    </tr>\n",
       "    <tr>\n",
       "      <th>6356</th>\n",
       "      <td>This Might Just Be The Ultimate Newborn Photo ...</td>\n",
       "      <td>1</td>\n",
       "    </tr>\n",
       "    <tr>\n",
       "      <th>8268</th>\n",
       "      <td>Justin Bieber Admits He Still Loves Selena Gomez</td>\n",
       "      <td>1</td>\n",
       "    </tr>\n",
       "    <tr>\n",
       "      <th>7478</th>\n",
       "      <td>These Sweatpants Overalls Are Making Me Have S...</td>\n",
       "      <td>1</td>\n",
       "    </tr>\n",
       "    <tr>\n",
       "      <th>7217</th>\n",
       "      <td>24 Forgotten Trends All Mid-'00s Teen Girls We...</td>\n",
       "      <td>1</td>\n",
       "    </tr>\n",
       "    <tr>\n",
       "      <th>256</th>\n",
       "      <td>Tools That Leave Wildlife Unbothered Widen Res...</td>\n",
       "      <td>0</td>\n",
       "    </tr>\n",
       "    <tr>\n",
       "      <th>2108</th>\n",
       "      <td>Knicks Rally Past Pistons, and Into Playoff Co...</td>\n",
       "      <td>0</td>\n",
       "    </tr>\n",
       "    <tr>\n",
       "      <th>2110</th>\n",
       "      <td>The 28 Most WTF, LOL, And OMG Viral Videos Of ...</td>\n",
       "      <td>1</td>\n",
       "    </tr>\n",
       "    <tr>\n",
       "      <th>445</th>\n",
       "      <td>Policeman from Sussex, UK pleads guilty to fra...</td>\n",
       "      <td>0</td>\n",
       "    </tr>\n",
       "    <tr>\n",
       "      <th>9124</th>\n",
       "      <td>The New Trailer For \"X-Men: Apocalypse\" Is Hon...</td>\n",
       "      <td>1</td>\n",
       "    </tr>\n",
       "    <tr>\n",
       "      <th>1474</th>\n",
       "      <td>A Fitting Time to Honor Mentor of Ashe and Gibson</td>\n",
       "      <td>0</td>\n",
       "    </tr>\n",
       "    <tr>\n",
       "      <th>7638</th>\n",
       "      <td>I Returned To My Childhood Mall And Found A Ni...</td>\n",
       "      <td>1</td>\n",
       "    </tr>\n",
       "    <tr>\n",
       "      <th>9632</th>\n",
       "      <td>Fort Lee, Virginia adopts RAPIDGate for fast c...</td>\n",
       "      <td>0</td>\n",
       "    </tr>\n",
       "    <tr>\n",
       "      <th>190</th>\n",
       "      <td>What's The Love Of Your Life Up To Right Now</td>\n",
       "      <td>1</td>\n",
       "    </tr>\n",
       "    <tr>\n",
       "      <th>4241</th>\n",
       "      <td>Ruling on Swim Suits Leaves Uncertainty on Rec...</td>\n",
       "      <td>0</td>\n",
       "    </tr>\n",
       "    <tr>\n",
       "      <th>4559</th>\n",
       "      <td>32 Times Scottish Twitter Was The Funniest Pla...</td>\n",
       "      <td>1</td>\n",
       "    </tr>\n",
       "    <tr>\n",
       "      <th>4201</th>\n",
       "      <td>Humans Intrude on an Indonesian Park</td>\n",
       "      <td>0</td>\n",
       "    </tr>\n",
       "    <tr>\n",
       "      <th>4271</th>\n",
       "      <td>Telecom Commission of Solomon Islands issues p...</td>\n",
       "      <td>0</td>\n",
       "    </tr>\n",
       "    <tr>\n",
       "      <th>4365</th>\n",
       "      <td>UK Defence Minister alludes to possible Iraq t...</td>\n",
       "      <td>0</td>\n",
       "    </tr>\n",
       "    <tr>\n",
       "      <th>8819</th>\n",
       "      <td>Football: FA charges Chelsea for player miscon...</td>\n",
       "      <td>0</td>\n",
       "    </tr>\n",
       "    <tr>\n",
       "      <th>7703</th>\n",
       "      <td>U.S. Soldier Kills 5 of His Comrades in Iraq</td>\n",
       "      <td>0</td>\n",
       "    </tr>\n",
       "    <tr>\n",
       "      <th>253</th>\n",
       "      <td>18 Must-Have Shoes For Fall</td>\n",
       "      <td>1</td>\n",
       "    </tr>\n",
       "    <tr>\n",
       "      <th>8212</th>\n",
       "      <td>Curly-Haired Women: Tell Us Your Most Incredib...</td>\n",
       "      <td>1</td>\n",
       "    </tr>\n",
       "    <tr>\n",
       "      <th>805</th>\n",
       "      <td>25 Reasons 2015 Was The Year Of The Geek</td>\n",
       "      <td>1</td>\n",
       "    </tr>\n",
       "    <tr>\n",
       "      <th>1685</th>\n",
       "      <td>Pope addresses UN in NY as US visit continues</td>\n",
       "      <td>0</td>\n",
       "    </tr>\n",
       "    <tr>\n",
       "      <th>4929</th>\n",
       "      <td>A Skeleton 4,000 Years Old Bears Evidence of L...</td>\n",
       "      <td>0</td>\n",
       "    </tr>\n",
       "    <tr>\n",
       "      <th>3949</th>\n",
       "      <td>'Brakes failed': fourteen killed in Guatemala ...</td>\n",
       "      <td>0</td>\n",
       "    </tr>\n",
       "  </tbody>\n",
       "</table>\n",
       "</div>"
      ],
      "text/plain": [
       "                                                      0  1\n",
       "9093               Hitler doll story found to be hoaxed  0\n",
       "3932  DO NOT Watch This If You Want \"Star Wars\" To B...  1\n",
       "1802  Which Quote In Literature Helped You Out With ...  1\n",
       "3211  Seven Moroccans killed in bus crash in central...  0\n",
       "6503  Martin Scorsese's Impression Of Robert De Niro...  1\n",
       "7890   This TBT Of Taylor Swift Will Make You Go \"Awww\"  1\n",
       "519    You'll Sob When You Try These Yoga Poses At Home  1\n",
       "5182  17 Entirely Unnecessary Beauty Products That A...  1\n",
       "1067  South African government appeals for calm afte...  0\n",
       "6059  22 Photos That Won't Make Sense To People With...  1\n",
       "7317     18 Things You Won't See In \"The Force Awakens\"  1\n",
       "5189  Adele's Reaction To The \"SNL\" Skit About Her I...  1\n",
       "5981     What TV Show Helped You During Your Depression  1\n",
       "398   The U.S. Men's Gymnastics Team Is So Hot It's ...  1\n",
       "2146  7 Adorable Crossbreed Dogs You Never Knew Existed  1\n",
       "2808  Scientology defector arrested after attempting...  0\n",
       "6156               Amid Floods, Brazilian Town Wades On  0\n",
       "1014                Kenya confirms first swine flu case  0\n",
       "8753  Here's How To Step Up Your Selfie Game By Thin...  1\n",
       "3910            Canadian merchant Ed Mirvish Dies at 92  0\n",
       "6985  In Thin Air of the Alps, Swiss Secrecy Is Vani...  0\n",
       "4282  How Romance's Hottest Writing Duo Turned Fanfi...  1\n",
       "2053  With Troubled Coyotes, Gretzky Called On as Sa...  0\n",
       "7343  Winners of 2006 New Zealand Music Awards annou...  0\n",
       "6356  This Might Just Be The Ultimate Newborn Photo ...  1\n",
       "8268   Justin Bieber Admits He Still Loves Selena Gomez  1\n",
       "7478  These Sweatpants Overalls Are Making Me Have S...  1\n",
       "7217  24 Forgotten Trends All Mid-'00s Teen Girls We...  1\n",
       "256   Tools That Leave Wildlife Unbothered Widen Res...  0\n",
       "2108  Knicks Rally Past Pistons, and Into Playoff Co...  0\n",
       "2110  The 28 Most WTF, LOL, And OMG Viral Videos Of ...  1\n",
       "445   Policeman from Sussex, UK pleads guilty to fra...  0\n",
       "9124  The New Trailer For \"X-Men: Apocalypse\" Is Hon...  1\n",
       "1474  A Fitting Time to Honor Mentor of Ashe and Gibson  0\n",
       "7638  I Returned To My Childhood Mall And Found A Ni...  1\n",
       "9632  Fort Lee, Virginia adopts RAPIDGate for fast c...  0\n",
       "190        What's The Love Of Your Life Up To Right Now  1\n",
       "4241  Ruling on Swim Suits Leaves Uncertainty on Rec...  0\n",
       "4559  32 Times Scottish Twitter Was The Funniest Pla...  1\n",
       "4201               Humans Intrude on an Indonesian Park  0\n",
       "4271  Telecom Commission of Solomon Islands issues p...  0\n",
       "4365  UK Defence Minister alludes to possible Iraq t...  0\n",
       "8819  Football: FA charges Chelsea for player miscon...  0\n",
       "7703       U.S. Soldier Kills 5 of His Comrades in Iraq  0\n",
       "253                         18 Must-Have Shoes For Fall  1\n",
       "8212  Curly-Haired Women: Tell Us Your Most Incredib...  1\n",
       "805            25 Reasons 2015 Was The Year Of The Geek  1\n",
       "1685      Pope addresses UN in NY as US visit continues  0\n",
       "4929  A Skeleton 4,000 Years Old Bears Evidence of L...  0\n",
       "3949  'Brakes failed': fourteen killed in Guatemala ...  0"
      ]
     },
     "execution_count": 17,
     "metadata": {},
     "output_type": "execute_result"
    }
   ],
   "source": [
    "df_clickbait.sample(50)"
   ]
  },
  {
   "cell_type": "code",
   "execution_count": 18,
   "metadata": {},
   "outputs": [
    {
     "data": {
      "text/html": [
       "<div>\n",
       "<style scoped>\n",
       "    .dataframe tbody tr th:only-of-type {\n",
       "        vertical-align: middle;\n",
       "    }\n",
       "\n",
       "    .dataframe tbody tr th {\n",
       "        vertical-align: top;\n",
       "    }\n",
       "\n",
       "    .dataframe thead th {\n",
       "        text-align: right;\n",
       "    }\n",
       "</style>\n",
       "<table border=\"1\" class=\"dataframe\">\n",
       "  <thead>\n",
       "    <tr style=\"text-align: right;\">\n",
       "      <th></th>\n",
       "      <th>Headline</th>\n",
       "      <th>Category</th>\n",
       "    </tr>\n",
       "  </thead>\n",
       "  <tbody>\n",
       "    <tr>\n",
       "      <th>0</th>\n",
       "      <td>Egypt's top envoy in Iraq confirmed killed</td>\n",
       "      <td>0</td>\n",
       "    </tr>\n",
       "    <tr>\n",
       "      <th>1</th>\n",
       "      <td>Carter: Race relations in Palestine are worse ...</td>\n",
       "      <td>0</td>\n",
       "    </tr>\n",
       "    <tr>\n",
       "      <th>2</th>\n",
       "      <td>After Years Of Dutiful Service, The Shiba Who ...</td>\n",
       "      <td>1</td>\n",
       "    </tr>\n",
       "    <tr>\n",
       "      <th>3</th>\n",
       "      <td>In Books on Two Powerbrokers, Hints of the Future</td>\n",
       "      <td>0</td>\n",
       "    </tr>\n",
       "    <tr>\n",
       "      <th>4</th>\n",
       "      <td>These Horrifyingly Satisfying Photos Of \"Baby ...</td>\n",
       "      <td>1</td>\n",
       "    </tr>\n",
       "  </tbody>\n",
       "</table>\n",
       "</div>"
      ],
      "text/plain": [
       "                                            Headline  Category\n",
       "0         Egypt's top envoy in Iraq confirmed killed         0\n",
       "1  Carter: Race relations in Palestine are worse ...         0\n",
       "2  After Years Of Dutiful Service, The Shiba Who ...         1\n",
       "3  In Books on Two Powerbrokers, Hints of the Future         0\n",
       "4  These Horrifyingly Satisfying Photos Of \"Baby ...         1"
      ]
     },
     "execution_count": 18,
     "metadata": {},
     "output_type": "execute_result"
    }
   ],
   "source": [
    "df_clickbait.columns = [\"Headline\", \"Category\"]\n",
    "df_clickbait.head()"
   ]
  },
  {
   "cell_type": "code",
   "execution_count": 19,
   "metadata": {},
   "outputs": [],
   "source": [
    "from sklearn.feature_extraction.text import TfidfVectorizer\n",
    "from sklearn.svm import LinearSVC\n",
    "from sklearn.metrics import accuracy_score\n",
    "\n",
    "headlines = df_clickbait[\"Headline\"]\n",
    "labels = df_clickbait[\"Category\"]"
   ]
  },
  {
   "cell_type": "code",
   "execution_count": 20,
   "metadata": {},
   "outputs": [
    {
     "data": {
      "text/plain": [
       "0           Egypt's top envoy in Iraq confirmed killed\n",
       "1    Carter: Race relations in Palestine are worse ...\n",
       "2    After Years Of Dutiful Service, The Shiba Who ...\n",
       "3    In Books on Two Powerbrokers, Hints of the Future\n",
       "4    These Horrifyingly Satisfying Photos Of \"Baby ...\n",
       "Name: Headline, dtype: object"
      ]
     },
     "execution_count": 20,
     "metadata": {},
     "output_type": "execute_result"
    }
   ],
   "source": [
    "headlines.head()"
   ]
  },
  {
   "cell_type": "code",
   "execution_count": 21,
   "metadata": {},
   "outputs": [
    {
     "data": {
      "text/plain": [
       "0    0\n",
       "1    0\n",
       "2    1\n",
       "3    0\n",
       "4    1\n",
       "Name: Category, dtype: int64"
      ]
     },
     "execution_count": 21,
     "metadata": {},
     "output_type": "execute_result"
    }
   ],
   "source": [
    "labels.head()"
   ]
  },
  {
   "cell_type": "code",
   "execution_count": 22,
   "metadata": {},
   "outputs": [],
   "source": [
    "# Break dataset into test and train sets\n",
    "train_headlines = headlines[:8000]\n",
    "test_headlines = headlines[8000:]\n",
    "\n",
    "train_labels = labels[:8000]\n",
    "test_labels = labels[8000:]"
   ]
  },
  {
   "cell_type": "markdown",
   "metadata": {},
   "source": [
    "Remember one-hot encoding, otherwise know as [get_dummies](https://pandas.pydata.org/pandas-docs/stable/reference/api/pandas.get_dummies.html) in pandas?  We were able to unpack a column, full of ungainly strings, into new columns, with 1s and 0s for values.\n",
    "\n",
    "That's close to what we do when \"vectorizing\" a \"bag of words\".  The specific algorithm we will be using, already in the can for us in sklearn, throws away what we might call \"stop words\" (used too frequently) and also words that occur too infrequently.\n",
    "\n",
    "We might do some data cleaning of front, before we vectorize.  Remove dates?  Excise serial numbers?  The end goal is to distill a document space to a vocabulary and frequency count for each word.  The ML engine (which one we pick) should be able to munch on this kind of numeric data.\n",
    "\n",
    "[TF-IDF in Python with Scikit Learn](https://youtu.be/i74DVqMsRWY) -- From Python Tutorials for the Digital Humanities\n",
    "\n",
    "[Topic Modeling](http://topic-modeling.pythonhumanities.com/01_01_introduction_to_topic_modeling.html)"
   ]
  },
  {
   "cell_type": "markdown",
   "metadata": {},
   "source": [
    "In addition to initializing a vectorizer, which is used in a next cell, we have to make the important decision regarding which ML engine to use.  In this case:  LinearSVC.\n",
    "\n",
    "LinearSVC is a subtype of a Support Vector Machine (SVM).  When separating data into clusters, you want to find a \"cut\" or \"slice\" through the data that maximizes its distance from the closest element in any cluster.  Optimizing means making the cut ever more effective at delineating two groups.\n",
    "\n",
    "In this case, we are attempting to separate the data using known cluster scores (1 or 0) for the training data."
   ]
  },
  {
   "cell_type": "code",
   "execution_count": 23,
   "metadata": {},
   "outputs": [],
   "source": [
    "vectorizer = TfidfVectorizer()\n",
    "svm = LinearSVC()"
   ]
  },
  {
   "cell_type": "code",
   "execution_count": 24,
   "metadata": {},
   "outputs": [],
   "source": [
    "# Transform our text data into numerical vectors\n",
    "train_vectors = vectorizer.fit_transform(train_headlines)\n",
    "test_vectors = vectorizer.transform(test_headlines)"
   ]
  },
  {
   "cell_type": "code",
   "execution_count": 25,
   "metadata": {},
   "outputs": [
    {
     "data": {
      "text/plain": [
       "<6x11773 sparse matrix of type '<class 'numpy.float64'>'\n",
       "\twith 56 stored elements in Compressed Sparse Row format>"
      ]
     },
     "execution_count": 25,
     "metadata": {},
     "output_type": "execute_result"
    }
   ],
   "source": [
    "train_vectors[:6]"
   ]
  },
  {
   "cell_type": "code",
   "execution_count": 26,
   "metadata": {},
   "outputs": [
    {
     "data": {
      "text/plain": [
       "<1x11773 sparse matrix of type '<class 'numpy.float64'>'\n",
       "\twith 9 stored elements in Compressed Sparse Row format>"
      ]
     },
     "execution_count": 26,
     "metadata": {},
     "output_type": "execute_result"
    }
   ],
   "source": [
    "train_vectors[1]"
   ]
  },
  {
   "cell_type": "code",
   "execution_count": 27,
   "metadata": {},
   "outputs": [
    {
     "data": {
      "text/plain": [
       "0.961"
      ]
     },
     "execution_count": 27,
     "metadata": {},
     "output_type": "execute_result"
    }
   ],
   "source": [
    "# Train the classifier and predict on test set\n",
    "svm.fit(train_vectors, train_labels)\n",
    "\n",
    "predictions = svm.predict(test_vectors)\n",
    "\n",
    "accuracy_score(test_labels, predictions)"
   ]
  },
  {
   "cell_type": "code",
   "execution_count": 28,
   "metadata": {},
   "outputs": [
    {
     "data": {
      "text/plain": [
       "array([1, 0])"
      ]
     },
     "execution_count": 28,
     "metadata": {},
     "output_type": "execute_result"
    }
   ],
   "source": [
    "new_headlines = [\"You Will NEVER Believe This!\", \n",
    "                 'Python Course Comes to a Finish']\n",
    "new_vectors = vectorizer.transform(new_headlines)\n",
    "new_predictions = svm.predict(new_vectors)\n",
    "\n",
    "new_predictions"
   ]
  },
  {
   "cell_type": "markdown",
   "metadata": {
    "id": "eppisf6o20Ip"
   },
   "source": [
    "### <p style=\"background-color:#9d4f8c; font-family:newtimeroman; color:#FFF9ED; font-size:150%; text-align:center; border-radius:10px 10px;\">Review:  Linear Regression</p>\n",
    "\n",
    "We should probably do one with `tips` first, as that's the one we've squeezed the most out of in DV0-DV5 (Data Visualization with Python)."
   ]
  },
  {
   "cell_type": "code",
   "execution_count": 29,
   "metadata": {
    "colab": {
     "base_uri": "https://localhost:8080/",
     "height": 203
    },
    "id": "BtAf43Va20Iq",
    "outputId": "5e76994f-847a-4efd-c3db-8c2bb994a7d5"
   },
   "outputs": [
    {
     "data": {
      "text/html": [
       "<div>\n",
       "<style scoped>\n",
       "    .dataframe tbody tr th:only-of-type {\n",
       "        vertical-align: middle;\n",
       "    }\n",
       "\n",
       "    .dataframe tbody tr th {\n",
       "        vertical-align: top;\n",
       "    }\n",
       "\n",
       "    .dataframe thead th {\n",
       "        text-align: right;\n",
       "    }\n",
       "</style>\n",
       "<table border=\"1\" class=\"dataframe\">\n",
       "  <thead>\n",
       "    <tr style=\"text-align: right;\">\n",
       "      <th></th>\n",
       "      <th>total_bill</th>\n",
       "      <th>tip</th>\n",
       "      <th>sex</th>\n",
       "      <th>smoker</th>\n",
       "      <th>day</th>\n",
       "      <th>time</th>\n",
       "      <th>size</th>\n",
       "    </tr>\n",
       "  </thead>\n",
       "  <tbody>\n",
       "    <tr>\n",
       "      <th>0</th>\n",
       "      <td>16.99</td>\n",
       "      <td>1.01</td>\n",
       "      <td>Female</td>\n",
       "      <td>No</td>\n",
       "      <td>Sun</td>\n",
       "      <td>Dinner</td>\n",
       "      <td>2</td>\n",
       "    </tr>\n",
       "    <tr>\n",
       "      <th>1</th>\n",
       "      <td>10.34</td>\n",
       "      <td>1.66</td>\n",
       "      <td>Male</td>\n",
       "      <td>No</td>\n",
       "      <td>Sun</td>\n",
       "      <td>Dinner</td>\n",
       "      <td>3</td>\n",
       "    </tr>\n",
       "    <tr>\n",
       "      <th>2</th>\n",
       "      <td>21.01</td>\n",
       "      <td>3.50</td>\n",
       "      <td>Male</td>\n",
       "      <td>No</td>\n",
       "      <td>Sun</td>\n",
       "      <td>Dinner</td>\n",
       "      <td>3</td>\n",
       "    </tr>\n",
       "    <tr>\n",
       "      <th>3</th>\n",
       "      <td>23.68</td>\n",
       "      <td>3.31</td>\n",
       "      <td>Male</td>\n",
       "      <td>No</td>\n",
       "      <td>Sun</td>\n",
       "      <td>Dinner</td>\n",
       "      <td>2</td>\n",
       "    </tr>\n",
       "    <tr>\n",
       "      <th>4</th>\n",
       "      <td>24.59</td>\n",
       "      <td>3.61</td>\n",
       "      <td>Female</td>\n",
       "      <td>No</td>\n",
       "      <td>Sun</td>\n",
       "      <td>Dinner</td>\n",
       "      <td>4</td>\n",
       "    </tr>\n",
       "  </tbody>\n",
       "</table>\n",
       "</div>"
      ],
      "text/plain": [
       "   total_bill   tip     sex smoker  day    time  size\n",
       "0       16.99  1.01  Female     No  Sun  Dinner     2\n",
       "1       10.34  1.66    Male     No  Sun  Dinner     3\n",
       "2       21.01  3.50    Male     No  Sun  Dinner     3\n",
       "3       23.68  3.31    Male     No  Sun  Dinner     2\n",
       "4       24.59  3.61  Female     No  Sun  Dinner     4"
      ]
     },
     "execution_count": 29,
     "metadata": {},
     "output_type": "execute_result"
    }
   ],
   "source": [
    "import seaborn as sns\n",
    "tips = sns.load_dataset(\"tips\")\n",
    "tips.head()"
   ]
  },
  {
   "cell_type": "code",
   "execution_count": 30,
   "metadata": {},
   "outputs": [
    {
     "data": {
      "image/png": "[encoded data removed]",
      "text/plain": [
       "<Figure size 432x432 with 3 Axes>"
      ]
     },
     "metadata": {
      "needs_background": "light"
     },
     "output_type": "display_data"
    }
   ],
   "source": [
    "sns.jointplot(kind=\"reg\", data=tips, x=\"total_bill\", y=\"tip\");"
   ]
  },
  {
   "cell_type": "code",
   "execution_count": 31,
   "metadata": {},
   "outputs": [
    {
     "name": "stdout",
     "output_type": "stream",
     "text": [
      "\u001b[31mroller_coasters.db\u001b[m\u001b[m\n"
     ]
    }
   ],
   "source": [
    "! ls roller*.*"
   ]
  },
  {
   "cell_type": "markdown",
   "metadata": {},
   "source": [
    "What we're reviewing here is sqlite3, which we only touched upon briefly, in connection with `airports.db` -- a flatfile of some 7K world airports, categorized in a few ways, some with lat/long.  That's a thumbnail data dictionary.\n",
    "\n",
    "Here's a link to it [on Kaggle](https://www.kaggle.com/datasets/jonatancr/airports).\n",
    "\n",
    "A potentially interesting project would be to compare the Roller Coasters dataset on Kaggle, with the one provided.  Another idea for a capstone project.  Perhaps a newer table could be merged from both sources?"
   ]
  },
  {
   "cell_type": "code",
   "execution_count": 32,
   "metadata": {},
   "outputs": [],
   "source": [
    "import sqlite3 as sql"
   ]
  },
  {
   "cell_type": "code",
   "execution_count": 33,
   "metadata": {},
   "outputs": [],
   "source": [
    "conn = sql.connect(\"roller_coasters.db\")"
   ]
  },
  {
   "cell_type": "code",
   "execution_count": 34,
   "metadata": {},
   "outputs": [],
   "source": [
    "coasters_df = pd.read_sql(\"select * from Coasters;\", con=conn)"
   ]
  },
  {
   "cell_type": "code",
   "execution_count": 35,
   "metadata": {},
   "outputs": [
    {
     "data": {
      "text/html": [
       "<div>\n",
       "<style scoped>\n",
       "    .dataframe tbody tr th:only-of-type {\n",
       "        vertical-align: middle;\n",
       "    }\n",
       "\n",
       "    .dataframe tbody tr th {\n",
       "        vertical-align: top;\n",
       "    }\n",
       "\n",
       "    .dataframe thead th {\n",
       "        text-align: right;\n",
       "    }\n",
       "</style>\n",
       "<table border=\"1\" class=\"dataframe\">\n",
       "  <thead>\n",
       "    <tr style=\"text-align: right;\">\n",
       "      <th></th>\n",
       "      <th>Name</th>\n",
       "      <th>Park</th>\n",
       "      <th>State</th>\n",
       "      <th>Country</th>\n",
       "      <th>Duration</th>\n",
       "      <th>Speed</th>\n",
       "      <th>Height</th>\n",
       "      <th>VertDrop</th>\n",
       "      <th>Length</th>\n",
       "      <th>Yr_Opened</th>\n",
       "      <th>Inversions</th>\n",
       "    </tr>\n",
       "  </thead>\n",
       "  <tbody>\n",
       "    <tr>\n",
       "      <th>0</th>\n",
       "      <td>Top Thrill Dragster</td>\n",
       "      <td>Cedar Point</td>\n",
       "      <td>Ohio</td>\n",
       "      <td>USA</td>\n",
       "      <td>60</td>\n",
       "      <td>120.0</td>\n",
       "      <td>420.0</td>\n",
       "      <td>400.00</td>\n",
       "      <td>2800.00</td>\n",
       "      <td>2003</td>\n",
       "      <td>0</td>\n",
       "    </tr>\n",
       "    <tr>\n",
       "      <th>1</th>\n",
       "      <td>Superman The Escape</td>\n",
       "      <td>Six Flags Magic Mountain</td>\n",
       "      <td>California</td>\n",
       "      <td>USA</td>\n",
       "      <td>28</td>\n",
       "      <td>100.0</td>\n",
       "      <td>415.0</td>\n",
       "      <td>328.10</td>\n",
       "      <td>1235.00</td>\n",
       "      <td>1997</td>\n",
       "      <td>0</td>\n",
       "    </tr>\n",
       "    <tr>\n",
       "      <th>2</th>\n",
       "      <td>Millennium Force</td>\n",
       "      <td>Cedar Point</td>\n",
       "      <td>Ohio</td>\n",
       "      <td>USA</td>\n",
       "      <td>165</td>\n",
       "      <td>93.0</td>\n",
       "      <td>310.0</td>\n",
       "      <td>300.00</td>\n",
       "      <td>6595.00</td>\n",
       "      <td>2000</td>\n",
       "      <td>0</td>\n",
       "    </tr>\n",
       "    <tr>\n",
       "      <th>3</th>\n",
       "      <td>Goliath</td>\n",
       "      <td>Six Flags Magic Mountain</td>\n",
       "      <td>California</td>\n",
       "      <td>USA</td>\n",
       "      <td>180</td>\n",
       "      <td>85.0</td>\n",
       "      <td>235.0</td>\n",
       "      <td>255.00</td>\n",
       "      <td>4500.00</td>\n",
       "      <td>2000</td>\n",
       "      <td>0</td>\n",
       "    </tr>\n",
       "    <tr>\n",
       "      <th>4</th>\n",
       "      <td>Titan</td>\n",
       "      <td>Space World</td>\n",
       "      <td>Kitakyushu</td>\n",
       "      <td>Japan</td>\n",
       "      <td>180</td>\n",
       "      <td>71.5</td>\n",
       "      <td>166.0</td>\n",
       "      <td>178.00</td>\n",
       "      <td>5019.67</td>\n",
       "      <td>1994</td>\n",
       "      <td>0</td>\n",
       "    </tr>\n",
       "    <tr>\n",
       "      <th>...</th>\n",
       "      <td>...</td>\n",
       "      <td>...</td>\n",
       "      <td>...</td>\n",
       "      <td>...</td>\n",
       "      <td>...</td>\n",
       "      <td>...</td>\n",
       "      <td>...</td>\n",
       "      <td>...</td>\n",
       "      <td>...</td>\n",
       "      <td>...</td>\n",
       "      <td>...</td>\n",
       "    </tr>\n",
       "    <tr>\n",
       "      <th>71</th>\n",
       "      <td>Oblivion</td>\n",
       "      <td>Alton Towers</td>\n",
       "      <td>Alton</td>\n",
       "      <td>England</td>\n",
       "      <td>75</td>\n",
       "      <td>68.0</td>\n",
       "      <td>65.0</td>\n",
       "      <td>180.00</td>\n",
       "      <td>1222.00</td>\n",
       "      <td>1998</td>\n",
       "      <td>0</td>\n",
       "    </tr>\n",
       "    <tr>\n",
       "      <th>72</th>\n",
       "      <td>Stunt Fall</td>\n",
       "      <td>Warner Bros. Movie World</td>\n",
       "      <td>San Martin de la Vega</td>\n",
       "      <td>Spain</td>\n",
       "      <td>92</td>\n",
       "      <td>65.6</td>\n",
       "      <td>191.6</td>\n",
       "      <td>177.00</td>\n",
       "      <td>1204.00</td>\n",
       "      <td>2002</td>\n",
       "      <td>3</td>\n",
       "    </tr>\n",
       "    <tr>\n",
       "      <th>73</th>\n",
       "      <td>Hayabusa</td>\n",
       "      <td>Tokyo SummerLand</td>\n",
       "      <td>Tokyo</td>\n",
       "      <td>Japan</td>\n",
       "      <td>108</td>\n",
       "      <td>60.3</td>\n",
       "      <td>137.8</td>\n",
       "      <td>124.67</td>\n",
       "      <td>2559.10</td>\n",
       "      <td>1992</td>\n",
       "      <td>0</td>\n",
       "    </tr>\n",
       "    <tr>\n",
       "      <th>74</th>\n",
       "      <td>Top Gun</td>\n",
       "      <td>Paramount Canada's Wonderland</td>\n",
       "      <td>Vaughan</td>\n",
       "      <td>Canada</td>\n",
       "      <td>125</td>\n",
       "      <td>56.0</td>\n",
       "      <td>102.0</td>\n",
       "      <td>93.00</td>\n",
       "      <td>2170.00</td>\n",
       "      <td>1995</td>\n",
       "      <td>5</td>\n",
       "    </tr>\n",
       "    <tr>\n",
       "      <th>75</th>\n",
       "      <td>Wild Beast</td>\n",
       "      <td>Paramount Canada's Wonderland</td>\n",
       "      <td>Vaughan</td>\n",
       "      <td>Canada</td>\n",
       "      <td>150</td>\n",
       "      <td>56.0</td>\n",
       "      <td>415.0</td>\n",
       "      <td>78.00</td>\n",
       "      <td>3150.00</td>\n",
       "      <td>1981</td>\n",
       "      <td>0</td>\n",
       "    </tr>\n",
       "  </tbody>\n",
       "</table>\n",
       "<p>76 rows × 11 columns</p>\n",
       "</div>"
      ],
      "text/plain": [
       "                   Name                           Park                  State  \\\n",
       "0   Top Thrill Dragster                    Cedar Point                   Ohio   \n",
       "1   Superman The Escape       Six Flags Magic Mountain             California   \n",
       "2      Millennium Force                    Cedar Point                   Ohio   \n",
       "3               Goliath       Six Flags Magic Mountain             California   \n",
       "4                 Titan                    Space World             Kitakyushu   \n",
       "..                  ...                            ...                    ...   \n",
       "71             Oblivion                   Alton Towers                  Alton   \n",
       "72           Stunt Fall       Warner Bros. Movie World  San Martin de la Vega   \n",
       "73             Hayabusa               Tokyo SummerLand                  Tokyo   \n",
       "74              Top Gun  Paramount Canada's Wonderland                Vaughan   \n",
       "75           Wild Beast  Paramount Canada's Wonderland                Vaughan   \n",
       "\n",
       "    Country  Duration  Speed  Height  VertDrop   Length  Yr_Opened  Inversions  \n",
       "0       USA        60  120.0   420.0    400.00  2800.00       2003           0  \n",
       "1       USA        28  100.0   415.0    328.10  1235.00       1997           0  \n",
       "2       USA       165   93.0   310.0    300.00  6595.00       2000           0  \n",
       "3       USA       180   85.0   235.0    255.00  4500.00       2000           0  \n",
       "4     Japan       180   71.5   166.0    178.00  5019.67       1994           0  \n",
       "..      ...       ...    ...     ...       ...      ...        ...         ...  \n",
       "71  England        75   68.0    65.0    180.00  1222.00       1998           0  \n",
       "72    Spain        92   65.6   191.6    177.00  1204.00       2002           3  \n",
       "73    Japan       108   60.3   137.8    124.67  2559.10       1992           0  \n",
       "74   Canada       125   56.0   102.0     93.00  2170.00       1995           5  \n",
       "75   Canada       150   56.0   415.0     78.00  3150.00       1981           0  \n",
       "\n",
       "[76 rows x 11 columns]"
      ]
     },
     "execution_count": 35,
     "metadata": {},
     "output_type": "execute_result"
    }
   ],
   "source": [
    "coasters_df"
   ]
  },
  {
   "cell_type": "markdown",
   "metadata": {},
   "source": [
    "What Linear Regression model shall we try?  The \"vertical drop\" and the \"speed\" would seem connected by the exceptionless law of gravity, whatever that is.  Let's check:"
   ]
  },
  {
   "cell_type": "code",
   "execution_count": 36,
   "metadata": {},
   "outputs": [
    {
     "data": {
      "image/png": "[encoded data removed]",
      "text/plain": [
       "<Figure size 432x432 with 3 Axes>"
      ]
     },
     "metadata": {
      "needs_background": "light"
     },
     "output_type": "display_data"
    }
   ],
   "source": [
    "sns.jointplot(kind=\"reg\", data=coasters_df, x=\"VertDrop\", y=\"Speed\");"
   ]
  },
  {
   "cell_type": "markdown",
   "metadata": {},
   "source": [
    "That seems like a pretty good fit if you ask me.  Call this the simplest of the Machine Learning model makers, the \"LRM\" or \"linear regression machine\".\n",
    "\n"
   ]
  },
  {
   "cell_type": "markdown",
   "metadata": {},
   "source": [
    "But now let's pause to exercise our secondary skills, which soon could become primary.  Let's modify our SQL:"
   ]
  },
  {
   "cell_type": "code",
   "execution_count": 37,
   "metadata": {},
   "outputs": [],
   "source": [
    "coasters_df = pd.read_sql(\"select name, park, state, country from Coasters ORDER BY country, state, name;\", con=conn)"
   ]
  },
  {
   "cell_type": "code",
   "execution_count": 38,
   "metadata": {},
   "outputs": [
    {
     "data": {
      "text/html": [
       "<div>\n",
       "<style scoped>\n",
       "    .dataframe tbody tr th:only-of-type {\n",
       "        vertical-align: middle;\n",
       "    }\n",
       "\n",
       "    .dataframe tbody tr th {\n",
       "        vertical-align: top;\n",
       "    }\n",
       "\n",
       "    .dataframe thead th {\n",
       "        text-align: right;\n",
       "    }\n",
       "</style>\n",
       "<table border=\"1\" class=\"dataframe\">\n",
       "  <thead>\n",
       "    <tr style=\"text-align: right;\">\n",
       "      <th></th>\n",
       "      <th>Name</th>\n",
       "      <th>Park</th>\n",
       "      <th>State</th>\n",
       "      <th>Country</th>\n",
       "    </tr>\n",
       "  </thead>\n",
       "  <tbody>\n",
       "    <tr>\n",
       "      <th>0</th>\n",
       "      <td>Tower of Terror</td>\n",
       "      <td>Dreamworld</td>\n",
       "      <td>Coomera</td>\n",
       "      <td>Australia</td>\n",
       "    </tr>\n",
       "    <tr>\n",
       "      <th>1</th>\n",
       "      <td>Top Gun</td>\n",
       "      <td>Paramount Canada's Wonderland</td>\n",
       "      <td>Vaughan</td>\n",
       "      <td>Canada</td>\n",
       "    </tr>\n",
       "    <tr>\n",
       "      <th>2</th>\n",
       "      <td>Wild Beast</td>\n",
       "      <td>Paramount Canada's Wonderland</td>\n",
       "      <td>Vaughan</td>\n",
       "      <td>Canada</td>\n",
       "    </tr>\n",
       "    <tr>\n",
       "      <th>3</th>\n",
       "      <td>Oblivion</td>\n",
       "      <td>Alton Towers</td>\n",
       "      <td>Alton</td>\n",
       "      <td>England</td>\n",
       "    </tr>\n",
       "    <tr>\n",
       "      <th>4</th>\n",
       "      <td>Fujiyama</td>\n",
       "      <td>Fuji-Q Highlands</td>\n",
       "      <td>FujiYoshida-shi</td>\n",
       "      <td>Japan</td>\n",
       "    </tr>\n",
       "    <tr>\n",
       "      <th>...</th>\n",
       "      <td>...</td>\n",
       "      <td>...</td>\n",
       "      <td>...</td>\n",
       "      <td>...</td>\n",
       "    </tr>\n",
       "    <tr>\n",
       "      <th>71</th>\n",
       "      <td>Alpengeist</td>\n",
       "      <td>Busch Gardens Williamsburg</td>\n",
       "      <td>Virginia</td>\n",
       "      <td>USA</td>\n",
       "    </tr>\n",
       "    <tr>\n",
       "      <th>72</th>\n",
       "      <td>Apollo's Chariot</td>\n",
       "      <td>Busch Gardens Williamsburg</td>\n",
       "      <td>Virginia</td>\n",
       "      <td>USA</td>\n",
       "    </tr>\n",
       "    <tr>\n",
       "      <th>73</th>\n",
       "      <td>HyperSonic XLC</td>\n",
       "      <td>Paramount's Kings Dominion</td>\n",
       "      <td>Virginia</td>\n",
       "      <td>USA</td>\n",
       "    </tr>\n",
       "    <tr>\n",
       "      <th>74</th>\n",
       "      <td>Volcano</td>\n",
       "      <td>Paramount's Kings Dominion</td>\n",
       "      <td>Virginia</td>\n",
       "      <td>USA</td>\n",
       "    </tr>\n",
       "    <tr>\n",
       "      <th>75</th>\n",
       "      <td>Coaster Thrill Ride</td>\n",
       "      <td>Puyallup Fair</td>\n",
       "      <td>Washington</td>\n",
       "      <td>USA</td>\n",
       "    </tr>\n",
       "  </tbody>\n",
       "</table>\n",
       "<p>76 rows × 4 columns</p>\n",
       "</div>"
      ],
      "text/plain": [
       "                   Name                           Park            State  \\\n",
       "0       Tower of Terror                     Dreamworld          Coomera   \n",
       "1               Top Gun  Paramount Canada's Wonderland          Vaughan   \n",
       "2            Wild Beast  Paramount Canada's Wonderland          Vaughan   \n",
       "3              Oblivion                   Alton Towers            Alton   \n",
       "4              Fujiyama               Fuji-Q Highlands  FujiYoshida-shi   \n",
       "..                  ...                            ...              ...   \n",
       "71           Alpengeist     Busch Gardens Williamsburg         Virginia   \n",
       "72     Apollo's Chariot     Busch Gardens Williamsburg         Virginia   \n",
       "73       HyperSonic XLC     Paramount's Kings Dominion         Virginia   \n",
       "74              Volcano     Paramount's Kings Dominion         Virginia   \n",
       "75  Coaster Thrill Ride                  Puyallup Fair       Washington   \n",
       "\n",
       "      Country  \n",
       "0   Australia  \n",
       "1      Canada  \n",
       "2      Canada  \n",
       "3     England  \n",
       "4       Japan  \n",
       "..        ...  \n",
       "71        USA  \n",
       "72        USA  \n",
       "73        USA  \n",
       "74        USA  \n",
       "75        USA  \n",
       "\n",
       "[76 rows x 4 columns]"
      ]
     },
     "execution_count": 38,
     "metadata": {},
     "output_type": "execute_result"
    }
   ],
   "source": [
    "coasters_df"
   ]
  },
  {
   "cell_type": "code",
   "execution_count": 39,
   "metadata": {},
   "outputs": [],
   "source": [
    "conn.close()"
   ]
  },
  {
   "cell_type": "markdown",
   "metadata": {
    "id": "yMowtQqH20Ir"
   },
   "source": [
    "### <p style=\"background-color:#9d4f8c; font-family:newtimeroman; color:#FFF9ED; font-size:150%; text-align:center; border-radius:10px 10px;\">Overview:  Python's Context Manager Construct</p>\n",
    "\n",
    "We went down this rabbit hole at least once.  Or call it \"following a trail\" (they all branch into each other, in a large dark forest)."
   ]
  },
  {
   "cell_type": "code",
   "execution_count": 40,
   "metadata": {},
   "outputs": [],
   "source": [
    "class CM:\n",
    "    \n",
    "    def __init__(self, myname):\n",
    "        self.name = myname\n",
    "        \n",
    "    def __enter__(self):\n",
    "        print(\"with me('') as it:  do something with it\")\n",
    "        return self\n",
    "        \n",
    "    def __exit__(self, *oops):\n",
    "        print(\"done doing\")"
   ]
  },
  {
   "cell_type": "code",
   "execution_count": 41,
   "metadata": {},
   "outputs": [
    {
     "name": "stdout",
     "output_type": "stream",
     "text": [
      "with me('') as it:  do something with it\n",
      "I'm inside the context -- __enter__ has run\n",
      "talker\n",
      "I will exit now...\n",
      "done doing\n"
     ]
    }
   ],
   "source": [
    "with CM(\"talker\") as it:\n",
    "    print(\"I'm inside the context -- __enter__ has run\")\n",
    "    print(it.name)\n",
    "    print(\"I will exit now...\")"
   ]
  },
  {
   "cell_type": "markdown",
   "metadata": {},
   "source": [
    "Lets reuse that same basic skeleton to talk to databases."
   ]
  },
  {
   "cell_type": "code",
   "execution_count": 42,
   "metadata": {},
   "outputs": [],
   "source": [
    "import sqlite3 as sql\n",
    "\n",
    "class CM:\n",
    "    \n",
    "    def __init__(self, myname):\n",
    "        self.name = myname\n",
    "        \n",
    "    def __enter__(self):\n",
    "        try:\n",
    "            self.conn = sql.connect(self.name)\n",
    "        except:\n",
    "            print(\"No connection\")\n",
    "            raise\n",
    "        return self\n",
    "        \n",
    "    def __exit__(self, *oops):  # trap error data if any\n",
    "        self.conn.close()\n",
    "        if oops[0]:       # hoping oops is (None, None, None)\n",
    "            return False  # something exceptional happened\n",
    "        return True       # all OK"
   ]
  },
  {
   "cell_type": "code",
   "execution_count": 43,
   "metadata": {},
   "outputs": [
    {
     "name": "stdout",
     "output_type": "stream",
     "text": [
      "Afterburner\n",
      "Alpengeist\n",
      "American Eagle\n",
      "Apollo's Chariot\n",
      "Batman Knight Flight\n",
      "Beast\n",
      "Blue Streak\n",
      "Boss\n",
      "Cannon Ball\n",
      "Canyon Blaster\n",
      "Chang\n",
      "Cheetah\n",
      "Coaster Thrill Ride\n",
      "Colossus\n",
      "Comet\n",
      "Corkscrew\n",
      "Deja Vu\n",
      "Desperado\n",
      "Fujiyama\n",
      "Goliath\n",
      "Great American Scream Machine\n",
      "Hangman\n",
      "Hayabusa\n",
      "Hercules\n",
      "Hurricane\n",
      "HyperSonic XLC\n",
      "Incredible Hulk\n",
      "Invertigo\n",
      "Iron Wolf\n",
      "Kong\n",
      "Kraken\n",
      "Magnum XL-200\n",
      "Mamba\n",
      "Manhattan Express\n",
      "Mean Streak\n",
      "Medusa\n",
      "Millennium Force\n",
      "Mind Eraser\n",
      "New Mexico Rattler\n",
      "Nitro\n",
      "Oblivion\n",
      "Orient Express\n",
      "Phantom's Revenge\n",
      "Raging Bull\n",
      "Rattler\n",
      "Riddler's Revenge\n",
      "Scream!\n",
      "Screamin' Eagle\n",
      "Silver Bullet\n",
      "Son Of Beast\n",
      "Starliner\n",
      "Steel Dragon 2000\n",
      "Steel Eel\n",
      "Steel Force\n",
      "Stunt Fall\n",
      "Superman - Ride Of Steel\n",
      "Superman The Escape\n",
      "T2\n",
      "Tennessee Tornado\n",
      "Texas Giant\n",
      "Thunder Dolphin\n",
      "Thunderbolt\n",
      "Timber Wolf\n",
      "Titan\n",
      "Top Gun\n",
      "Top Thrill Dragster\n",
      "Tower of Terror\n",
      "Viper\n",
      "Volcano\n",
      "Whizzer\n",
      "Wild Beast\n",
      "Wild One\n",
      "Wild Thing\n",
      "Wildfire\n",
      "X\n",
      "Xcelerator\n",
      "--- GN\n",
      "--- Connection closed\n"
     ]
    },
    {
     "data": {
      "text/plain": [
       "<sqlite3.Connection at 0x7fc9821fe210>"
      ]
     },
     "execution_count": 43,
     "metadata": {},
     "output_type": "execute_result"
    }
   ],
   "source": [
    "with CM(\"roller_coasters.db\") as db:\n",
    "    curs = db.conn.cursor()\n",
    "    curs.execute(\"select * from Coasters ORDER By name;\")\n",
    "    for rec in curs.fetchall():\n",
    "        print(rec[0])\n",
    "    print(\"--- GN\")\n",
    "print(\"--- Connection closed\")\n",
    "db.conn"
   ]
  },
  {
   "cell_type": "markdown",
   "metadata": {},
   "source": [
    "## <p style=\"background-color:#9d4f8c; font-family:newtimeroman; color:#FFF9ED; font-size:150%; text-align:center; border-radius:10px 10px;\">END OF DVwPY 6 Part 2 <br/>(Preview, Overview, Review)</p>"
   ]
  },
  {
   "cell_type": "markdown",
   "metadata": {
    "id": "flznMCqEAzac"
   },
   "source": [
    "___\n",
    "\n",
    "<p style=\"text-align: center;\"><img src=\"https://docs.google.com/uc?id=1lY0Uj5R04yMY3-ZppPWxqCr5pvBLYPnV\" class=\"img-fluid\" \n",
    "alt=\"CLRSWY\"></p>\n",
    "\n",
    "## <p style=\"background-color:#FDFEFE; font-family:newtimeroman; color:#9d4f8c; font-size:100%; text-align:center; border-radius:10px 10px;\">WAY TO REINVENT YOURSELF</p>\n",
    "\n",
    "___"
   ]
  }
 ],
 "metadata": {
  "colab": {
   "collapsed_sections": [],
   "name": "DV_capstone_solution.ipynb",
   "provenance": [],
   "toc_visible": true
  },
  "kernelspec": {
   "display_name": "Python 3 (ipykernel)",
   "language": "python",
   "name": "python3"
  },
  "language_info": {
   "codemirror_mode": {
    "name": "ipython",
    "version": 3
   },
   "file_extension": ".py",
   "mimetype": "text/x-python",
   "name": "python",
   "nbconvert_exporter": "python",
   "pygments_lexer": "ipython3",
   "version": "3.9.12"
  },
  "toc": {
   "base_numbering": 1,
   "nav_menu": {},
   "number_sections": false,
   "sideBar": true,
   "skip_h1_title": false,
   "title_cell": "Table of Contents",
   "title_sidebar": "Contents",
   "toc_cell": false,
   "toc_position": {},
   "toc_section_display": true,
   "toc_window_display": false
  }
 },
 "nbformat": 4,
 "nbformat_minor": 4
}
